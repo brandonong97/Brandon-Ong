{
 "cells": [
  {
   "cell_type": "code",
   "execution_count": 2,
   "metadata": {},
   "outputs": [],
   "source": [
    "# Import libraries\n",
    "import numpy as np\n",
    "from scipy import sparse\n",
    "import pandas as pd\n",
    "import ipynb\n",
    "\n",
    "beta = 0.91 # used in computing the PageRank"
   ]
  },
  {
   "cell_type": "code",
   "execution_count": 3,
   "metadata": {},
   "outputs": [],
   "source": [
    "# load the Graph2022.csv and store it in variable \"M\" as a np.array (the loading may take some time)\n",
    "\n",
    "# You may use the line below to load the data.\n",
    "M = pd.read_csv(\"Graph2022.csv\", header = None).values"
   ]
  },
  {
   "cell_type": "markdown",
   "metadata": {},
   "source": [
    "<div class=\"alert alert-warning\">\n",
    "<b>M is a square matrix contains only 0 and 1. $M_{ij}=1$ if and only if webpage j links to webpage i. The number of rows (or columns) of the matrix is the number of webpages in the network. You may want to store that number in a variable<b>\n",
    "</div>"
   ]
  },
  {
   "cell_type": "code",
   "execution_count": 4,
   "metadata": {},
   "outputs": [
    {
     "data": {
      "text/plain": [
       "(9998, 9998)"
      ]
     },
     "execution_count": 4,
     "metadata": {},
     "output_type": "execute_result"
    }
   ],
   "source": [
    "M.shape"
   ]
  },
  {
   "cell_type": "code",
   "execution_count": 5,
   "metadata": {},
   "outputs": [
    {
     "name": "stdout",
     "output_type": "stream",
     "text": [
      "number of links 271976\n",
      "sparse ratio 0.9972791517695417\n"
     ]
    }
   ],
   "source": [
    "\n",
    "print('number of links ' + str(M.sum()))\n",
    "print('sparse ratio ' + str(1 - M.sum()/(len(M)**2)))"
   ]
  },
  {
   "cell_type": "code",
   "execution_count": 6,
   "metadata": {},
   "outputs": [
    {
     "data": {
      "text/plain": [
       "False"
      ]
     },
     "execution_count": 6,
     "metadata": {},
     "output_type": "execute_result"
    }
   ],
   "source": [
    "# Check if there are any NaN in your matrix after the operation\n",
    "test = M.sum(axis=0)[None,:]\n",
    "\n",
    "test[np.where(test==0)]=1\n",
    "\n",
    "M2 = M/test\n",
    "np.isnan(M2).any()"
   ]
  },
  {
   "cell_type": "code",
   "execution_count": 7,
   "metadata": {},
   "outputs": [
    {
     "data": {
      "text/plain": [
       "(array([], dtype=int64), array([], dtype=int64))"
      ]
     },
     "execution_count": 7,
     "metadata": {},
     "output_type": "execute_result"
    }
   ],
   "source": [
    "H = M2\n",
    "for i in range(len(H)):\n",
    "    if H[:,i].sum() == 0:\n",
    "        H[:,i] = 1/9998\n",
    "\n",
    "np.where(H.sum(axis=0)[None,:]==0)"
   ]
  },
  {
   "cell_type": "code",
   "execution_count": 9,
   "metadata": {},
   "outputs": [],
   "source": [
    "# Generate matrix G using beta. \n",
    "beta_1 = beta*H\n",
    "beta_2 = (1 - beta)*np.ones((9998,9998))/9998\n",
    "\n",
    "G = beta_1 + beta_2"
   ]
  },
  {
   "cell_type": "code",
   "execution_count": 10,
   "metadata": {},
   "outputs": [
    {
     "data": {
      "text/plain": [
       "array([[0.00010002],\n",
       "       [0.00010002],\n",
       "       [0.00010002],\n",
       "       ...,\n",
       "       [0.00010002],\n",
       "       [0.00010002],\n",
       "       [0.00010002]])"
      ]
     },
     "execution_count": 10,
     "metadata": {},
     "output_type": "execute_result"
    }
   ],
   "source": [
    "# initialize the PageRank vector to be 1/N for all entries, where N is the total number of webpage in the graph\n",
    "M_int = np.ones((9998,1))/9998\n",
    "M_int"
   ]
  },
  {
   "cell_type": "markdown",
   "metadata": {},
   "source": [
    "#### Raise matrix G to the 10th power and then multiply it by the initial PageRank vector. "
   ]
  },
  {
   "cell_type": "code",
   "execution_count": 11,
   "metadata": {},
   "outputs": [
    {
     "name": "stdout",
     "output_type": "stream",
     "text": [
      "[[9.27112230e-05]\n",
      " [8.72505665e-05]\n",
      " [8.46776745e-05]\n",
      " ...\n",
      " [1.12693382e-04]\n",
      " [9.61683340e-05]\n",
      " [8.84430036e-05]]\n",
      "Wall time: 1min 35s\n"
     ]
    }
   ],
   "source": [
    "%%time\n",
    "G_10 = np.linalg.matrix_power(G, 10)\n",
    "#G_10 = G**10\n",
    "print(G_10.dot(M_int))"
   ]
  },
  {
   "cell_type": "markdown",
   "metadata": {},
   "source": [
    "#### Implement power iteration method for 10 iterations using the sparse matrix HS only. Initialize the PageRank vector to be 1/N for all entries, where N is the total number of webpage in the graph."
   ]
  },
  {
   "cell_type": "code",
   "execution_count": 12,
   "metadata": {},
   "outputs": [
    {
     "name": "stdout",
     "output_type": "stream",
     "text": [
      "[[9.22354108e-05]\n",
      " [8.50700523e-05]\n",
      " [8.25097285e-05]\n",
      " ...\n",
      " [1.14160942e-04]\n",
      " [9.53737830e-05]\n",
      " [8.96219574e-05]]\n",
      "Wall time: 5.85 s\n"
     ]
    }
   ],
   "source": [
    "%%time\n",
    "HS = sparse.csr_matrix(H)\n",
    "HS_pr = HS\n",
    "pr_2a = M_int\n",
    "\n",
    "for i in range(10):\n",
    "    pr_2a = HS_pr.dot(pr_2a)\n",
    "\n",
    "\n",
    "print(pr_2a)"
   ]
  },
  {
   "cell_type": "markdown",
   "metadata": {},
   "source": [
    "#### Redo this problem but use the matrix H instead of HS."
   ]
  },
  {
   "cell_type": "code",
   "execution_count": 13,
   "metadata": {},
   "outputs": [
    {
     "name": "stdout",
     "output_type": "stream",
     "text": [
      "[[9.22354108e-05]\n",
      " [8.50700523e-05]\n",
      " [8.25097285e-05]\n",
      " ...\n",
      " [1.14160942e-04]\n",
      " [9.53737830e-05]\n",
      " [8.96219574e-05]]\n",
      "Wall time: 458 ms\n"
     ]
    }
   ],
   "source": [
    "%%time\n",
    "H_pr = H\n",
    "pr_2b = M_int\n",
    "\n",
    "for i in range(10):\n",
    "    pr_2b = H_pr.dot(pr_2b)\n",
    "\n",
    "\n",
    "print(pr_2b)"
   ]
  },
  {
   "cell_type": "code",
   "execution_count": 14,
   "metadata": {},
   "outputs": [],
   "source": [
    "MS = sparse.csr_matrix(M2)"
   ]
  },
  {
   "cell_type": "markdown",
   "metadata": {},
   "source": [
    "#### Initialize the PageRank vector to be 1/N for all entries, where N is the total number of webpage in the graph. "
   ]
  },
  {
   "cell_type": "code",
   "execution_count": 15,
   "metadata": {},
   "outputs": [
    {
     "name": "stdout",
     "output_type": "stream",
     "text": [
      "[[9.27112230e-05]\n",
      " [8.72505665e-05]\n",
      " [8.46776745e-05]\n",
      " ...\n",
      " [1.12693382e-04]\n",
      " [9.61683340e-05]\n",
      " [8.84430036e-05]]\n",
      "Wall time: 42.7 ms\n"
     ]
    }
   ],
   "source": [
    "%%time\n",
    "e = np.ones((9998,1))\n",
    "e_t = np.ones((1,9998))\n",
    "r_final = e/9998\n",
    "\n",
    "for i in range(10):\n",
    "    r_temp = beta * MS.dot(r_final)\n",
    "    S = r_temp.sum()\n",
    "    r_final = r_temp + ((1-S)/9998)*e\n",
    "\n",
    "print(r_final)"
   ]
  },
  {
   "cell_type": "markdown",
   "metadata": {},
   "source": [
    "#### Initialize the PageRank vector using the following formula. "
   ]
  },
  {
   "cell_type": "code",
   "execution_count": 16,
   "metadata": {},
   "outputs": [],
   "source": [
    "Q4 = []\n",
    "for i in range(len(H)):\n",
    "    temp = [i, np.nonzero(H[:,i])]\n",
    "    Q4.append(temp)"
   ]
  },
  {
   "cell_type": "code",
   "execution_count": 17,
   "metadata": {
    "scrolled": true
   },
   "outputs": [
    {
     "name": "stdout",
     "output_type": "stream",
     "text": [
      "Wall time: 1.54 s\n"
     ]
    },
    {
     "data": {
      "text/plain": [
       "array([[9.27112230e-05],\n",
       "       [8.72505665e-05],\n",
       "       [8.46776745e-05],\n",
       "       ...,\n",
       "       [1.12693382e-04],\n",
       "       [9.61683340e-05],\n",
       "       [8.84430036e-05]])"
      ]
     },
     "execution_count": 17,
     "metadata": {},
     "output_type": "execute_result"
    }
   ],
   "source": [
    "%%time\n",
    "r_final = np.ones((9998,1))/9998\n",
    "r_temp = np.ones((9998,1))/9998\n",
    "e = np.ones((9998,1))\n",
    "e_t = np.ones((1,9998))\n",
    "\n",
    "for num in range(10):\n",
    "    r_temp = np.ones((9998,1))/9998\n",
    "    for i in Q4:\n",
    "        r_temp[i[1]] += beta*r_final[i[0]]/(len(i[1][0]))\n",
    "    S = r_temp.sum()\n",
    "    r_final = r_temp + ((1-S)/9998)*e\n",
    "\n",
    "r_final"
   ]
  },
  {
   "cell_type": "markdown",
   "metadata": {},
   "source": [
    "#### Initialize the PageRank using MapReduce"
   ]
  },
  {
   "cell_type": "code",
   "execution_count": 18,
   "metadata": {},
   "outputs": [],
   "source": [
    "# you may want to import the following libraries\n",
    "import itertools\n",
    "import collections"
   ]
  },
  {
   "cell_type": "code",
   "execution_count": 19,
   "metadata": {},
   "outputs": [
    {
     "name": "stderr",
     "output_type": "stream",
     "text": [
      "<ipython-input-19-093aef08e34e>:6: VisibleDeprecationWarning: Creating an ndarray from ragged nested sequences (which is a list-or-tuple of lists-or-tuples-or ndarrays with different lengths or shapes) is deprecated. If you meant to do this, you must specify 'dtype=object' when creating the ndarray.\n",
      "  Q5_df = np.array(Q5)\n"
     ]
    }
   ],
   "source": [
    "\n",
    "Q5 = []\n",
    "for i in range(len(H)):\n",
    "    temp = [i, np.nonzero(H[:,i]),1/9998]\n",
    "    Q5.append(temp)\n",
    "Q5_df = np.array(Q5)"
   ]
  },
  {
   "cell_type": "markdown",
   "metadata": {},
   "source": [
    "#### Define your mapper and reducer function (10 points)"
   ]
  },
  {
   "cell_type": "code",
   "execution_count": 20,
   "metadata": {},
   "outputs": [],
   "source": [
    "# define your mapper function\n",
    "def mapper(table):\n",
    "    node = table[0]\n",
    "    PR = table[2]\n",
    "    Dest = table[1][0]\n",
    "    Degree = len(Dest)\n",
    "    return [[i,PR/Degree] for i in Dest]\n",
    "            \n",
    "\n",
    "# define your reducer function\n",
    "def reducer(table):\n",
    "    return (table[0],sum(table[1]))\n"
   ]
  },
  {
   "cell_type": "markdown",
   "metadata": {},
   "source": [
    "#### <u> Print the PageRank vector after 10 iterations and runtime. </u> (5 points)"
   ]
  },
  {
   "cell_type": "code",
   "execution_count": 22,
   "metadata": {
    "scrolled": true
   },
   "outputs": [
    {
     "name": "stdout",
     "output_type": "stream",
     "text": [
      "[9.223541078484978e-05 8.507005225677045e-05 8.25097285025396e-05 ...\n",
      " 0.00011416094174541629 9.537378299807321e-05 8.962195740879375e-05]\n",
      "Wall time: 40.9 s\n"
     ]
    }
   ],
   "source": [
    "%%time\n",
    "for num in range(10):\n",
    "    mapped_values = map(mapper,Q5_df)\n",
    "    partition_value = list(itertools.chain(*mapped_values))\n",
    "    partition_data = collections.defaultdict(list)\n",
    "    for k,v in partition_value:\n",
    "        partition_data[k].append(v)\n",
    "    AT = map(reducer,partition_data.items())\n",
    "    reduced = list(AT)\n",
    "    reduced.sort()\n",
    "    reduced_pr = np.array(reduced)[:,1]\n",
    "    S = reduced_pr.sum()\n",
    "    r_final = reduced_pr + ((1-S)/9998)*e_t\n",
    "    Q5_df[:,2] = r_final[0]\n",
    "    \n",
    "print(Q5_df[:,2])\n",
    "    "
   ]
  },
  {
   "cell_type": "markdown",
   "metadata": {},
   "source": [
    "#### Initialize the PageRank vector using MapReduce and multiprocessing"
   ]
  },
  {
   "cell_type": "code",
   "execution_count": 23,
   "metadata": {},
   "outputs": [],
   "source": [
    "import multiprocessing \n",
    "from multiprocessing import Pool\n",
    "from function_4 import mapper_2\n",
    "from function_4 import reducer_2\n",
    "# import your functions. \n",
    "# Note that in order to use the multiprocessing library, you need to save all of your user-defined \n",
    "# functions into a .py file and import here. If you directly use the functions you have defined in the previous question,\n",
    "# it will run forever\n"
   ]
  },
  {
   "cell_type": "code",
   "execution_count": 24,
   "metadata": {},
   "outputs": [
    {
     "name": "stderr",
     "output_type": "stream",
     "text": [
      "<ipython-input-24-977efd5ce3b8>:1: VisibleDeprecationWarning: Creating an ndarray from ragged nested sequences (which is a list-or-tuple of lists-or-tuples-or ndarrays with different lengths or shapes) is deprecated. If you meant to do this, you must specify 'dtype=object' when creating the ndarray.\n",
      "  Q6_df = np.array(Q5)\n"
     ]
    }
   ],
   "source": [
    "Q6_df = np.array(Q5)"
   ]
  },
  {
   "cell_type": "code",
   "execution_count": 25,
   "metadata": {},
   "outputs": [],
   "source": [
    "Num_core = multiprocessing.cpu_count()"
   ]
  },
  {
   "cell_type": "code",
   "execution_count": 26,
   "metadata": {},
   "outputs": [],
   "source": [
    "p = multiprocessing.Pool(Num_core)"
   ]
  },
  {
   "cell_type": "code",
   "execution_count": 27,
   "metadata": {
    "scrolled": true
   },
   "outputs": [
    {
     "name": "stdout",
     "output_type": "stream",
     "text": [
      "[9.223541078484978e-05 8.507005225677045e-05 8.25097285025396e-05 ...\n",
      " 0.00011416094174541629 9.537378299807321e-05 8.962195740879375e-05]\n",
      "Wall time: 1min 39s\n"
     ]
    }
   ],
   "source": [
    "%%time\n",
    "for num in range(10):\n",
    "    mapped_values = p.map(mapper_2,Q6_df)\n",
    "    partition_value = list(itertools.chain(*mapped_values))\n",
    "    partition_data = collections.defaultdict(list)\n",
    "    for k,v in partition_value:\n",
    "        partition_data[k].append(v)\n",
    "    AT = p.map(reducer_2,partition_data.items())\n",
    "    reduced = list(AT)\n",
    "    reduced.sort()\n",
    "    reduced_pr = np.array(reduced)[:,1]\n",
    "    S = reduced_pr.sum()\n",
    "    r_final = reduced_pr + ((1-S)/9998)*e_t\n",
    "    Q6_df[:,2] = r_final[0]\n",
    "\n",
    "print(Q6_df[:,2])"
   ]
  },
  {
   "cell_type": "markdown",
   "metadata": {},
   "source": [
    "#### Compare the runtime of different Q"
   ]
  },
  {
   "cell_type": "code",
   "execution_count": 29,
   "metadata": {},
   "outputs": [
    {
     "data": {
      "text/html": [
       "<div>\n",
       "<style scoped>\n",
       "    .dataframe tbody tr th:only-of-type {\n",
       "        vertical-align: middle;\n",
       "    }\n",
       "\n",
       "    .dataframe tbody tr th {\n",
       "        vertical-align: top;\n",
       "    }\n",
       "\n",
       "    .dataframe thead th {\n",
       "        text-align: right;\n",
       "    }\n",
       "</style>\n",
       "<table border=\"1\" class=\"dataframe\">\n",
       "  <thead>\n",
       "    <tr style=\"text-align: right;\">\n",
       "      <th></th>\n",
       "      <th>Q1</th>\n",
       "      <th>Q2-1</th>\n",
       "      <th>Q2-2</th>\n",
       "      <th>Q3</th>\n",
       "      <th>Q4</th>\n",
       "      <th>Q5</th>\n",
       "      <th>Q6</th>\n",
       "    </tr>\n",
       "  </thead>\n",
       "  <tbody>\n",
       "    <tr>\n",
       "      <th>0</th>\n",
       "      <td>1min 35s</td>\n",
       "      <td>5.85 s</td>\n",
       "      <td>458 ms</td>\n",
       "      <td>42.7 ms</td>\n",
       "      <td>1.534s</td>\n",
       "      <td>40.9 s</td>\n",
       "      <td>1min 39s</td>\n",
       "    </tr>\n",
       "  </tbody>\n",
       "</table>\n",
       "</div>"
      ],
      "text/plain": [
       "         Q1    Q2-1    Q2-2       Q3      Q4      Q5        Q6\n",
       "0  1min 35s  5.85 s  458 ms  42.7 ms  1.534s  40.9 s  1min 39s"
      ]
     },
     "execution_count": 29,
     "metadata": {},
     "output_type": "execute_result"
    }
   ],
   "source": [
    "d = {'Q1':['1min 35s'],'Q2-1':['5.85 s'],'Q2-2':['458 ms'],'Q3':['42.7 ms'],'Q4':['1.534s'],'Q5':['40.9 s'],'Q6':['1min 39s']}\n",
    "final = pd.DataFrame(d)\n",
    "final"
   ]
  }
 ],
 "metadata": {
  "kernelspec": {
   "display_name": "Python 3",
   "language": "python",
   "name": "python3"
  },
  "language_info": {
   "codemirror_mode": {
    "name": "ipython",
    "version": 3
   },
   "file_extension": ".py",
   "mimetype": "text/x-python",
   "name": "python",
   "nbconvert_exporter": "python",
   "pygments_lexer": "ipython3",
   "version": "3.8.8"
  },
  "toc": {
   "base_numbering": 1,
   "nav_menu": {},
   "number_sections": true,
   "sideBar": true,
   "skip_h1_title": false,
   "title_cell": "Table of Contents",
   "title_sidebar": "Contents",
   "toc_cell": false,
   "toc_position": {
    "height": "calc(100% - 180px)",
    "left": "10px",
    "top": "150px",
    "width": "194.391px"
   },
   "toc_section_display": true,
   "toc_window_display": true
  }
 },
 "nbformat": 4,
 "nbformat_minor": 2
}
