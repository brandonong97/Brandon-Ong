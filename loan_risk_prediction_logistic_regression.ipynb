{
 "cells": [
  {
   "cell_type": "markdown",
   "metadata": {},
   "source": [
    "# Context\n",
    "\n",
    "* The goal of this assignment is to take a step-by-step approach to solving the credit lending problem on a more realistic data set. \n",
    "\n",
    "* In this assignment, we will start from the ETL (Extract, Transform, Load) and data cleaning, followed by building logistic models, and finally, how to produce a credit decision rule. We will also explore variants of the logistic regression"
   ]
  },
  {
   "cell_type": "code",
   "execution_count": 1,
   "metadata": {},
   "outputs": [],
   "source": [
    "# Data analysis\n",
    "import pandas as pd\n",
    "import numpy as np\n",
    "\n",
    "# Data visualization\n",
    "import matplotlib.pyplot as plt\n",
    "\n",
    "# Machine learning\n",
    "from sklearn.linear_model import LogisticRegression\n",
    "from sklearn.metrics import confusion_matrix, roc_curve, roc_auc_score"
   ]
  },
  {
   "cell_type": "markdown",
   "metadata": {},
   "source": [
    "# Part 1. Data pre-processing "
   ]
  },
  {
   "cell_type": "code",
   "execution_count": 2,
   "metadata": {},
   "outputs": [
    {
     "data": {
      "text/html": [
       "<div>\n",
       "<style scoped>\n",
       "    .dataframe tbody tr th:only-of-type {\n",
       "        vertical-align: middle;\n",
       "    }\n",
       "\n",
       "    .dataframe tbody tr th {\n",
       "        vertical-align: top;\n",
       "    }\n",
       "\n",
       "    .dataframe thead th {\n",
       "        text-align: right;\n",
       "    }\n",
       "</style>\n",
       "<table border=\"1\" class=\"dataframe\">\n",
       "  <thead>\n",
       "    <tr style=\"text-align: right;\">\n",
       "      <th></th>\n",
       "      <th>loan_amnt</th>\n",
       "      <th>term</th>\n",
       "      <th>int_rate</th>\n",
       "      <th>installment</th>\n",
       "      <th>grade</th>\n",
       "      <th>sub_grade</th>\n",
       "      <th>emp_title</th>\n",
       "      <th>emp_length</th>\n",
       "      <th>home_ownership</th>\n",
       "      <th>annual_inc</th>\n",
       "      <th>...</th>\n",
       "      <th>hardship_loan_status</th>\n",
       "      <th>orig_projected_additional_accrued_interest</th>\n",
       "      <th>hardship_payoff_balance_amount</th>\n",
       "      <th>hardship_last_payment_amount</th>\n",
       "      <th>debt_settlement_flag_date</th>\n",
       "      <th>settlement_status</th>\n",
       "      <th>settlement_date</th>\n",
       "      <th>settlement_amount</th>\n",
       "      <th>settlement_percentage</th>\n",
       "      <th>settlement_term</th>\n",
       "    </tr>\n",
       "  </thead>\n",
       "  <tbody>\n",
       "    <tr>\n",
       "      <th>0</th>\n",
       "      <td>16000</td>\n",
       "      <td>60 months</td>\n",
       "      <td>12.74</td>\n",
       "      <td>361.93</td>\n",
       "      <td>C</td>\n",
       "      <td>C1</td>\n",
       "      <td>Aircraft Maintenance Technician</td>\n",
       "      <td>1 year</td>\n",
       "      <td>MORTGAGE</td>\n",
       "      <td>80000.0</td>\n",
       "      <td>...</td>\n",
       "      <td>NaN</td>\n",
       "      <td>NaN</td>\n",
       "      <td>NaN</td>\n",
       "      <td>NaN</td>\n",
       "      <td>NaN</td>\n",
       "      <td>NaN</td>\n",
       "      <td>NaN</td>\n",
       "      <td>NaN</td>\n",
       "      <td>NaN</td>\n",
       "      <td>NaN</td>\n",
       "    </tr>\n",
       "    <tr>\n",
       "      <th>1</th>\n",
       "      <td>25000</td>\n",
       "      <td>60 months</td>\n",
       "      <td>28.69</td>\n",
       "      <td>788.84</td>\n",
       "      <td>F</td>\n",
       "      <td>F1</td>\n",
       "      <td>Checker</td>\n",
       "      <td>5 years</td>\n",
       "      <td>MORTGAGE</td>\n",
       "      <td>75200.0</td>\n",
       "      <td>...</td>\n",
       "      <td>NaN</td>\n",
       "      <td>NaN</td>\n",
       "      <td>NaN</td>\n",
       "      <td>NaN</td>\n",
       "      <td>NaN</td>\n",
       "      <td>NaN</td>\n",
       "      <td>NaN</td>\n",
       "      <td>NaN</td>\n",
       "      <td>NaN</td>\n",
       "      <td>NaN</td>\n",
       "    </tr>\n",
       "    <tr>\n",
       "      <th>2</th>\n",
       "      <td>5000</td>\n",
       "      <td>36 months</td>\n",
       "      <td>5.32</td>\n",
       "      <td>150.58</td>\n",
       "      <td>A</td>\n",
       "      <td>A1</td>\n",
       "      <td>Principal</td>\n",
       "      <td>8 years</td>\n",
       "      <td>RENT</td>\n",
       "      <td>95000.0</td>\n",
       "      <td>...</td>\n",
       "      <td>NaN</td>\n",
       "      <td>NaN</td>\n",
       "      <td>NaN</td>\n",
       "      <td>NaN</td>\n",
       "      <td>NaN</td>\n",
       "      <td>NaN</td>\n",
       "      <td>NaN</td>\n",
       "      <td>NaN</td>\n",
       "      <td>NaN</td>\n",
       "      <td>NaN</td>\n",
       "    </tr>\n",
       "    <tr>\n",
       "      <th>3</th>\n",
       "      <td>30000</td>\n",
       "      <td>60 months</td>\n",
       "      <td>16.24</td>\n",
       "      <td>733.38</td>\n",
       "      <td>C</td>\n",
       "      <td>C5</td>\n",
       "      <td>Production Supervisor</td>\n",
       "      <td>10+ years</td>\n",
       "      <td>MORTGAGE</td>\n",
       "      <td>72900.0</td>\n",
       "      <td>...</td>\n",
       "      <td>NaN</td>\n",
       "      <td>NaN</td>\n",
       "      <td>NaN</td>\n",
       "      <td>NaN</td>\n",
       "      <td>NaN</td>\n",
       "      <td>NaN</td>\n",
       "      <td>NaN</td>\n",
       "      <td>NaN</td>\n",
       "      <td>NaN</td>\n",
       "      <td>NaN</td>\n",
       "    </tr>\n",
       "    <tr>\n",
       "      <th>4</th>\n",
       "      <td>7500</td>\n",
       "      <td>36 months</td>\n",
       "      <td>14.49</td>\n",
       "      <td>258.13</td>\n",
       "      <td>C</td>\n",
       "      <td>C4</td>\n",
       "      <td>Director Supplier Management</td>\n",
       "      <td>10+ years</td>\n",
       "      <td>MORTGAGE</td>\n",
       "      <td>180000.0</td>\n",
       "      <td>...</td>\n",
       "      <td>NaN</td>\n",
       "      <td>NaN</td>\n",
       "      <td>NaN</td>\n",
       "      <td>NaN</td>\n",
       "      <td>NaN</td>\n",
       "      <td>NaN</td>\n",
       "      <td>NaN</td>\n",
       "      <td>NaN</td>\n",
       "      <td>NaN</td>\n",
       "      <td>NaN</td>\n",
       "    </tr>\n",
       "    <tr>\n",
       "      <th>5</th>\n",
       "      <td>20000</td>\n",
       "      <td>60 months</td>\n",
       "      <td>12.79</td>\n",
       "      <td>452.92</td>\n",
       "      <td>C</td>\n",
       "      <td>C1</td>\n",
       "      <td>General Manager</td>\n",
       "      <td>4 years</td>\n",
       "      <td>MORTGAGE</td>\n",
       "      <td>80000.0</td>\n",
       "      <td>...</td>\n",
       "      <td>NaN</td>\n",
       "      <td>NaN</td>\n",
       "      <td>NaN</td>\n",
       "      <td>NaN</td>\n",
       "      <td>NaN</td>\n",
       "      <td>NaN</td>\n",
       "      <td>NaN</td>\n",
       "      <td>NaN</td>\n",
       "      <td>NaN</td>\n",
       "      <td>NaN</td>\n",
       "    </tr>\n",
       "    <tr>\n",
       "      <th>6</th>\n",
       "      <td>2000</td>\n",
       "      <td>36 months</td>\n",
       "      <td>16.99</td>\n",
       "      <td>71.30</td>\n",
       "      <td>D</td>\n",
       "      <td>D1</td>\n",
       "      <td>material handler</td>\n",
       "      <td>6 years</td>\n",
       "      <td>MORTGAGE</td>\n",
       "      <td>19000.0</td>\n",
       "      <td>...</td>\n",
       "      <td>NaN</td>\n",
       "      <td>NaN</td>\n",
       "      <td>NaN</td>\n",
       "      <td>NaN</td>\n",
       "      <td>NaN</td>\n",
       "      <td>NaN</td>\n",
       "      <td>NaN</td>\n",
       "      <td>NaN</td>\n",
       "      <td>NaN</td>\n",
       "      <td>NaN</td>\n",
       "    </tr>\n",
       "    <tr>\n",
       "      <th>7</th>\n",
       "      <td>13000</td>\n",
       "      <td>36 months</td>\n",
       "      <td>11.22</td>\n",
       "      <td>426.96</td>\n",
       "      <td>B</td>\n",
       "      <td>B5</td>\n",
       "      <td>Custodian</td>\n",
       "      <td>&lt; 1 year</td>\n",
       "      <td>RENT</td>\n",
       "      <td>61000.0</td>\n",
       "      <td>...</td>\n",
       "      <td>NaN</td>\n",
       "      <td>NaN</td>\n",
       "      <td>NaN</td>\n",
       "      <td>NaN</td>\n",
       "      <td>NaN</td>\n",
       "      <td>NaN</td>\n",
       "      <td>NaN</td>\n",
       "      <td>NaN</td>\n",
       "      <td>NaN</td>\n",
       "      <td>NaN</td>\n",
       "    </tr>\n",
       "    <tr>\n",
       "      <th>8</th>\n",
       "      <td>16000</td>\n",
       "      <td>36 months</td>\n",
       "      <td>13.67</td>\n",
       "      <td>544.29</td>\n",
       "      <td>B</td>\n",
       "      <td>B5</td>\n",
       "      <td>RN</td>\n",
       "      <td>3 years</td>\n",
       "      <td>MORTGAGE</td>\n",
       "      <td>55000.0</td>\n",
       "      <td>...</td>\n",
       "      <td>NaN</td>\n",
       "      <td>NaN</td>\n",
       "      <td>NaN</td>\n",
       "      <td>NaN</td>\n",
       "      <td>NaN</td>\n",
       "      <td>NaN</td>\n",
       "      <td>NaN</td>\n",
       "      <td>NaN</td>\n",
       "      <td>NaN</td>\n",
       "      <td>NaN</td>\n",
       "    </tr>\n",
       "    <tr>\n",
       "      <th>9</th>\n",
       "      <td>30000</td>\n",
       "      <td>60 months</td>\n",
       "      <td>9.16</td>\n",
       "      <td>625.09</td>\n",
       "      <td>B</td>\n",
       "      <td>B2</td>\n",
       "      <td>Registered Nurse</td>\n",
       "      <td>3 years</td>\n",
       "      <td>MORTGAGE</td>\n",
       "      <td>114000.0</td>\n",
       "      <td>...</td>\n",
       "      <td>NaN</td>\n",
       "      <td>NaN</td>\n",
       "      <td>NaN</td>\n",
       "      <td>NaN</td>\n",
       "      <td>NaN</td>\n",
       "      <td>NaN</td>\n",
       "      <td>NaN</td>\n",
       "      <td>NaN</td>\n",
       "      <td>NaN</td>\n",
       "      <td>NaN</td>\n",
       "    </tr>\n",
       "  </tbody>\n",
       "</table>\n",
       "<p>10 rows × 132 columns</p>\n",
       "</div>"
      ],
      "text/plain": [
       "   loan_amnt        term  int_rate  installment grade sub_grade  \\\n",
       "0      16000   60 months     12.74       361.93     C        C1   \n",
       "1      25000   60 months     28.69       788.84     F        F1   \n",
       "2       5000   36 months      5.32       150.58     A        A1   \n",
       "3      30000   60 months     16.24       733.38     C        C5   \n",
       "4       7500   36 months     14.49       258.13     C        C4   \n",
       "5      20000   60 months     12.79       452.92     C        C1   \n",
       "6       2000   36 months     16.99        71.30     D        D1   \n",
       "7      13000   36 months     11.22       426.96     B        B5   \n",
       "8      16000   36 months     13.67       544.29     B        B5   \n",
       "9      30000   60 months      9.16       625.09     B        B2   \n",
       "\n",
       "                         emp_title emp_length home_ownership  annual_inc  ...  \\\n",
       "0  Aircraft Maintenance Technician     1 year       MORTGAGE     80000.0  ...   \n",
       "1                          Checker    5 years       MORTGAGE     75200.0  ...   \n",
       "2                        Principal    8 years           RENT     95000.0  ...   \n",
       "3            Production Supervisor  10+ years       MORTGAGE     72900.0  ...   \n",
       "4     Director Supplier Management  10+ years       MORTGAGE    180000.0  ...   \n",
       "5                  General Manager    4 years       MORTGAGE     80000.0  ...   \n",
       "6                 material handler    6 years       MORTGAGE     19000.0  ...   \n",
       "7                        Custodian   < 1 year           RENT     61000.0  ...   \n",
       "8                               RN    3 years       MORTGAGE     55000.0  ...   \n",
       "9                 Registered Nurse    3 years       MORTGAGE    114000.0  ...   \n",
       "\n",
       "  hardship_loan_status orig_projected_additional_accrued_interest  \\\n",
       "0                  NaN                                        NaN   \n",
       "1                  NaN                                        NaN   \n",
       "2                  NaN                                        NaN   \n",
       "3                  NaN                                        NaN   \n",
       "4                  NaN                                        NaN   \n",
       "5                  NaN                                        NaN   \n",
       "6                  NaN                                        NaN   \n",
       "7                  NaN                                        NaN   \n",
       "8                  NaN                                        NaN   \n",
       "9                  NaN                                        NaN   \n",
       "\n",
       "  hardship_payoff_balance_amount hardship_last_payment_amount  \\\n",
       "0                            NaN                          NaN   \n",
       "1                            NaN                          NaN   \n",
       "2                            NaN                          NaN   \n",
       "3                            NaN                          NaN   \n",
       "4                            NaN                          NaN   \n",
       "5                            NaN                          NaN   \n",
       "6                            NaN                          NaN   \n",
       "7                            NaN                          NaN   \n",
       "8                            NaN                          NaN   \n",
       "9                            NaN                          NaN   \n",
       "\n",
       "  debt_settlement_flag_date settlement_status settlement_date  \\\n",
       "0                       NaN               NaN             NaN   \n",
       "1                       NaN               NaN             NaN   \n",
       "2                       NaN               NaN             NaN   \n",
       "3                       NaN               NaN             NaN   \n",
       "4                       NaN               NaN             NaN   \n",
       "5                       NaN               NaN             NaN   \n",
       "6                       NaN               NaN             NaN   \n",
       "7                       NaN               NaN             NaN   \n",
       "8                       NaN               NaN             NaN   \n",
       "9                       NaN               NaN             NaN   \n",
       "\n",
       "  settlement_amount  settlement_percentage  settlement_term  \n",
       "0               NaN                    NaN              NaN  \n",
       "1               NaN                    NaN              NaN  \n",
       "2               NaN                    NaN              NaN  \n",
       "3               NaN                    NaN              NaN  \n",
       "4               NaN                    NaN              NaN  \n",
       "5               NaN                    NaN              NaN  \n",
       "6               NaN                    NaN              NaN  \n",
       "7               NaN                    NaN              NaN  \n",
       "8               NaN                    NaN              NaN  \n",
       "9               NaN                    NaN              NaN  \n",
       "\n",
       "[10 rows x 132 columns]"
      ]
     },
     "execution_count": 2,
     "metadata": {},
     "output_type": "execute_result"
    }
   ],
   "source": [
    "# Read data by pandas and name it as \"loans\".\n",
    "\n",
    "loans = pd.read_csv('lendingclub_full_data_set_no_id.csv')\n",
    "loans.head(n=10)"
   ]
  },
  {
   "cell_type": "code",
   "execution_count": 3,
   "metadata": {},
   "outputs": [
    {
     "data": {
      "text/plain": [
       "(24999, 132)"
      ]
     },
     "execution_count": 3,
     "metadata": {},
     "output_type": "execute_result"
    }
   ],
   "source": [
    "# Show how many rows and columns such dataset has\n",
    "\n",
    "loans.shape"
   ]
  },
  {
   "cell_type": "code",
   "execution_count": 4,
   "metadata": {},
   "outputs": [
    {
     "data": {
      "text/plain": [
       "Current                                                12063\n",
       "Fully Paid                                              9733\n",
       "Charged Off                                             2557\n",
       "Late (31-120 days)                                       336\n",
       "In Grace Period                                          174\n",
       "Late (16-30 days)                                        101\n",
       "Does not meet the credit policy. Status:Fully Paid        28\n",
       "Does not meet the credit policy. Status:Charged Off        5\n",
       "Default                                                    2\n",
       "Name: loan_status, dtype: int64"
      ]
     },
     "execution_count": 4,
     "metadata": {},
     "output_type": "execute_result"
    }
   ],
   "source": [
    "# list all the unique values of loan status and count the volume of them\n",
    "\n",
    "loans['loan_status'].value_counts()"
   ]
  },
  {
   "cell_type": "code",
   "execution_count": 5,
   "metadata": {},
   "outputs": [
    {
     "data": {
      "text/plain": [
       "(12628, 133)"
      ]
     },
     "execution_count": 5,
     "metadata": {},
     "output_type": "execute_result"
    }
   ],
   "source": [
    "# Reset the \"loans\" dataset by only including the rows whose \"loan_status\" belongs to one of the following: \n",
    "# 'Fully Paid','Late (31-120 days)','Default' and 'Charged Off'\n",
    "\n",
    "loans = loans[loans[\"loan_status\"].isin([\"Fully Paid\",\"Charged Off\",\"Late (31-120 days)\",\"Default\"])]\n",
    "loans = loans.reset_index()\n",
    "loans.shape"
   ]
  },
  {
   "cell_type": "code",
   "execution_count": 6,
   "metadata": {},
   "outputs": [
    {
     "data": {
      "text/plain": [
       "0        1\n",
       "1        0\n",
       "2        1\n",
       "3        1\n",
       "4        1\n",
       "        ..\n",
       "12623    1\n",
       "12624    1\n",
       "12625    1\n",
       "12626    0\n",
       "12627    1\n",
       "Name: loan_status, Length: 12628, dtype: object"
      ]
     },
     "execution_count": 6,
     "metadata": {},
     "output_type": "execute_result"
    }
   ],
   "source": [
    "# Convert loan status to binary values.\n",
    "# Rule: A “good” loan = 1 (i.e., positive) and a “bad” loan = 0 (i.e., negative). \n",
    "# A good loan means one that is fully paid and a bad one means otherwise.\n",
    "loans.loc[loans.loan_status != 'Fully Paid', 'loan_status'] = 0\n",
    "loans.loc[loans.loan_status == 'Fully Paid', 'loan_status'] = 1\n",
    "\n",
    "loans['loan_status']"
   ]
  },
  {
   "cell_type": "code",
   "execution_count": 7,
   "metadata": {},
   "outputs": [
    {
     "data": {
      "text/plain": [
       "1    9733\n",
       "0    2895\n",
       "Name: loan_status, dtype: int64"
      ]
     },
     "execution_count": 7,
     "metadata": {},
     "output_type": "execute_result"
    }
   ],
   "source": [
    "# List again all the unique values of \"loan_status\" and count the volume of them\n",
    "loans['loan_status'].value_counts()"
   ]
  },
  {
   "cell_type": "code",
   "execution_count": 8,
   "metadata": {},
   "outputs": [],
   "source": [
    "# We consider the following pool of features\n",
    "    \n",
    "feature_pool = ['fico_range_high',\n",
    " 'fico_range_low',\n",
    " 'acc_now_delinq',\n",
    " 'installment',\n",
    " 'collections_12_mths_ex_med',\n",
    " 'tax_liens',\n",
    " 'verification_status',\n",
    " 'revol_bal',\n",
    " 'home_ownership',\n",
    " 'total_acc',\n",
    " 'annual_inc',\n",
    " 'delinq_2yrs',\n",
    " 'pub_rec_bankruptcies',\n",
    " 'purpose',\n",
    " 'loan_amnt',\n",
    " 'open_acc',\n",
    " 'revol_util',\n",
    " 'sub_grade',\n",
    " 'delinq_amnt',\n",
    " 'chargeoff_within_12_mths',\n",
    " 'inq_last_6mths',\n",
    " 'pub_rec',\n",
    " 'term',\n",
    " 'dti','int_rate',\n",
    "  'addr_state']\n",
    "\n",
    "outcome = 'loan_status'"
   ]
  },
  {
   "cell_type": "code",
   "execution_count": 9,
   "metadata": {},
   "outputs": [],
   "source": [
    "feature_pool.append('loan_status')"
   ]
  },
  {
   "cell_type": "code",
   "execution_count": 10,
   "metadata": {},
   "outputs": [],
   "source": [
    "# reset \"loans\" dataset by only including the features in the pool\n",
    "loans = loans.loc[:,feature_pool]\n"
   ]
  },
  {
   "cell_type": "code",
   "execution_count": 11,
   "metadata": {},
   "outputs": [
    {
     "data": {
      "text/html": [
       "<div>\n",
       "<style scoped>\n",
       "    .dataframe tbody tr th:only-of-type {\n",
       "        vertical-align: middle;\n",
       "    }\n",
       "\n",
       "    .dataframe tbody tr th {\n",
       "        vertical-align: top;\n",
       "    }\n",
       "\n",
       "    .dataframe thead th {\n",
       "        text-align: right;\n",
       "    }\n",
       "</style>\n",
       "<table border=\"1\" class=\"dataframe\">\n",
       "  <thead>\n",
       "    <tr style=\"text-align: right;\">\n",
       "      <th></th>\n",
       "      <th>verification_status</th>\n",
       "      <th>home_ownership</th>\n",
       "      <th>purpose</th>\n",
       "      <th>sub_grade</th>\n",
       "      <th>term</th>\n",
       "      <th>addr_state</th>\n",
       "      <th>loan_status</th>\n",
       "    </tr>\n",
       "  </thead>\n",
       "  <tbody>\n",
       "    <tr>\n",
       "      <th>0</th>\n",
       "      <td>Verified</td>\n",
       "      <td>MORTGAGE</td>\n",
       "      <td>debt_consolidation</td>\n",
       "      <td>F1</td>\n",
       "      <td>60 months</td>\n",
       "      <td>GA</td>\n",
       "      <td>1</td>\n",
       "    </tr>\n",
       "    <tr>\n",
       "      <th>1</th>\n",
       "      <td>Verified</td>\n",
       "      <td>MORTGAGE</td>\n",
       "      <td>debt_consolidation</td>\n",
       "      <td>C5</td>\n",
       "      <td>60 months</td>\n",
       "      <td>IL</td>\n",
       "      <td>0</td>\n",
       "    </tr>\n",
       "    <tr>\n",
       "      <th>2</th>\n",
       "      <td>Not Verified</td>\n",
       "      <td>MORTGAGE</td>\n",
       "      <td>debt_consolidation</td>\n",
       "      <td>C4</td>\n",
       "      <td>36 months</td>\n",
       "      <td>AZ</td>\n",
       "      <td>1</td>\n",
       "    </tr>\n",
       "    <tr>\n",
       "      <th>3</th>\n",
       "      <td>Verified</td>\n",
       "      <td>RENT</td>\n",
       "      <td>debt_consolidation</td>\n",
       "      <td>B5</td>\n",
       "      <td>36 months</td>\n",
       "      <td>FL</td>\n",
       "      <td>1</td>\n",
       "    </tr>\n",
       "    <tr>\n",
       "      <th>4</th>\n",
       "      <td>Not Verified</td>\n",
       "      <td>MORTGAGE</td>\n",
       "      <td>debt_consolidation</td>\n",
       "      <td>B5</td>\n",
       "      <td>36 months</td>\n",
       "      <td>FL</td>\n",
       "      <td>1</td>\n",
       "    </tr>\n",
       "    <tr>\n",
       "      <th>...</th>\n",
       "      <td>...</td>\n",
       "      <td>...</td>\n",
       "      <td>...</td>\n",
       "      <td>...</td>\n",
       "      <td>...</td>\n",
       "      <td>...</td>\n",
       "      <td>...</td>\n",
       "    </tr>\n",
       "    <tr>\n",
       "      <th>12623</th>\n",
       "      <td>Not Verified</td>\n",
       "      <td>MORTGAGE</td>\n",
       "      <td>debt_consolidation</td>\n",
       "      <td>C4</td>\n",
       "      <td>36 months</td>\n",
       "      <td>IN</td>\n",
       "      <td>1</td>\n",
       "    </tr>\n",
       "    <tr>\n",
       "      <th>12624</th>\n",
       "      <td>Verified</td>\n",
       "      <td>MORTGAGE</td>\n",
       "      <td>debt_consolidation</td>\n",
       "      <td>A3</td>\n",
       "      <td>36 months</td>\n",
       "      <td>OR</td>\n",
       "      <td>1</td>\n",
       "    </tr>\n",
       "    <tr>\n",
       "      <th>12625</th>\n",
       "      <td>Source Verified</td>\n",
       "      <td>OWN</td>\n",
       "      <td>debt_consolidation</td>\n",
       "      <td>B5</td>\n",
       "      <td>36 months</td>\n",
       "      <td>TX</td>\n",
       "      <td>1</td>\n",
       "    </tr>\n",
       "    <tr>\n",
       "      <th>12626</th>\n",
       "      <td>Source Verified</td>\n",
       "      <td>OWN</td>\n",
       "      <td>debt_consolidation</td>\n",
       "      <td>E1</td>\n",
       "      <td>36 months</td>\n",
       "      <td>OK</td>\n",
       "      <td>0</td>\n",
       "    </tr>\n",
       "    <tr>\n",
       "      <th>12627</th>\n",
       "      <td>Verified</td>\n",
       "      <td>RENT</td>\n",
       "      <td>debt_consolidation</td>\n",
       "      <td>D5</td>\n",
       "      <td>36 months</td>\n",
       "      <td>NY</td>\n",
       "      <td>1</td>\n",
       "    </tr>\n",
       "  </tbody>\n",
       "</table>\n",
       "<p>12628 rows × 7 columns</p>\n",
       "</div>"
      ],
      "text/plain": [
       "      verification_status home_ownership             purpose sub_grade  \\\n",
       "0                Verified       MORTGAGE  debt_consolidation        F1   \n",
       "1                Verified       MORTGAGE  debt_consolidation        C5   \n",
       "2            Not Verified       MORTGAGE  debt_consolidation        C4   \n",
       "3                Verified           RENT  debt_consolidation        B5   \n",
       "4            Not Verified       MORTGAGE  debt_consolidation        B5   \n",
       "...                   ...            ...                 ...       ...   \n",
       "12623        Not Verified       MORTGAGE  debt_consolidation        C4   \n",
       "12624            Verified       MORTGAGE  debt_consolidation        A3   \n",
       "12625     Source Verified            OWN  debt_consolidation        B5   \n",
       "12626     Source Verified            OWN  debt_consolidation        E1   \n",
       "12627            Verified           RENT  debt_consolidation        D5   \n",
       "\n",
       "             term addr_state loan_status  \n",
       "0       60 months         GA           1  \n",
       "1       60 months         IL           0  \n",
       "2       36 months         AZ           1  \n",
       "3       36 months         FL           1  \n",
       "4       36 months         FL           1  \n",
       "...           ...        ...         ...  \n",
       "12623   36 months         IN           1  \n",
       "12624   36 months         OR           1  \n",
       "12625   36 months         TX           1  \n",
       "12626   36 months         OK           0  \n",
       "12627   36 months         NY           1  \n",
       "\n",
       "[12628 rows x 7 columns]"
      ]
     },
     "execution_count": 11,
     "metadata": {},
     "output_type": "execute_result"
    }
   ],
   "source": [
    "# List the types of all fields\n",
    "loans.select_dtypes(exclude=np.number)"
   ]
  },
  {
   "cell_type": "code",
   "execution_count": 12,
   "metadata": {},
   "outputs": [],
   "source": [
    "# For all values of the 'home_ownership' variable that are 'ANY' or 'NONE', rename them to 'OTHER'\n",
    "loans.loc[loans['home_ownership'].isin(['ANY','NONE']),'home_ownership'] = 'OTHER'\n",
    "\n",
    "# For all values of the 'purpose' variable that are 'renewable_energy' or 'educational', rename them to 'other'\n",
    "loans.loc[loans['purpose'].isin(['renewable_energy','educational']),'purpose'] = 'other'\n",
    "\n",
    "# For all values of the 'sub_grade' variable that are 'G1', 'G2', 'G3', 'G4', or 'G5', rename them to 'G'\n",
    "loans.loc[loans['sub_grade'].isin(['G1', 'G2', 'G3', 'G4','G5']),'sub_grade'] = 'G'\n"
   ]
  },
  {
   "cell_type": "code",
   "execution_count": 13,
   "metadata": {},
   "outputs": [],
   "source": [
    "# For every categorical variable with k alternatives, please replace it with k-1 dummy variables using one-hot encoding.\n",
    "\n",
    "category_pool = ['home_ownership', 'term', 'sub_grade', 'verification_status','purpose','addr_state']\n",
    "\n",
    "loans = pd.get_dummies(loans, columns=category_pool, drop_first = True)"
   ]
  },
  {
   "cell_type": "code",
   "execution_count": 14,
   "metadata": {},
   "outputs": [
    {
     "name": "stdout",
     "output_type": "stream",
     "text": [
      "(12628, 117)\n"
     ]
    }
   ],
   "source": [
    "# Count the number of features now after transformation\n",
    "# All fields should be of numerical types by this stage.\n",
    "\n",
    "print(loans.shape)\n",
    "loans.select_dtypes(exclude=np.number)\n",
    "\n",
    "loans[\"loan_status\"] = pd.to_numeric(loans[\"loan_status\"])"
   ]
  },
  {
   "cell_type": "code",
   "execution_count": 15,
   "metadata": {},
   "outputs": [
    {
     "data": {
      "text/plain": [
       "fico_range_high               0\n",
       "fico_range_low                0\n",
       "acc_now_delinq                0\n",
       "installment                   0\n",
       "collections_12_mths_ex_med    1\n",
       "                             ..\n",
       "addr_state_VT                 0\n",
       "addr_state_WA                 0\n",
       "addr_state_WI                 0\n",
       "addr_state_WV                 0\n",
       "addr_state_WY                 0\n",
       "Length: 117, dtype: int64"
      ]
     },
     "execution_count": 15,
     "metadata": {},
     "output_type": "execute_result"
    }
   ],
   "source": [
    "# Count how many missing values there are in every column of the dataframe loans.\n",
    "\n",
    "loans.isna().sum()"
   ]
  },
  {
   "cell_type": "code",
   "execution_count": 16,
   "metadata": {},
   "outputs": [],
   "source": [
    "variables_to_complete = ['tax_liens','revol_util', 'dti', 'collections_12_mths_ex_med', 'chargeoff_within_12_mths', 'pub_rec_bankruptcies']\n",
    "\n",
    "# Process missing values: use the median value of each field to fill in the missing values\n",
    "loans['tax_liens'].fillna(loans['tax_liens'].median(), inplace=True)\n",
    "loans['revol_util'].fillna(loans['revol_util'].median(), inplace=True)\n",
    "loans['dti'].fillna(loans['dti'].median(), inplace=True)\n",
    "loans['collections_12_mths_ex_med'].fillna(loans['collections_12_mths_ex_med'].median(), inplace=True)\n",
    "loans['pub_rec_bankruptcies'].fillna(loans['pub_rec_bankruptcies'].median(), inplace=True)\n",
    "loans['chargeoff_within_12_mths'].fillna(loans['chargeoff_within_12_mths'].median(), inplace=True)\n"
   ]
  },
  {
   "cell_type": "code",
   "execution_count": 17,
   "metadata": {},
   "outputs": [
    {
     "data": {
      "text/plain": [
       "False"
      ]
     },
     "execution_count": 17,
     "metadata": {},
     "output_type": "execute_result"
    }
   ],
   "source": [
    "# check again whether there are any missing values\n",
    "loans.isna().sum()\n",
    "loans.isnull().values.any()"
   ]
  },
  {
   "cell_type": "code",
   "execution_count": 18,
   "metadata": {},
   "outputs": [],
   "source": [
    "n = len(loans)\n",
    "random_index = np.random.RandomState(seed=42).permutation(n)\n",
    "loans = loans.iloc[random_index]\n",
    "loans.reset_index(drop=True, inplace=True)"
   ]
  },
  {
   "cell_type": "code",
   "execution_count": 19,
   "metadata": {},
   "outputs": [],
   "source": [
    "# Split the pre-processed loan data into training, validation and test set\n",
    "# Suggestion: any deletion of rows could be followed by reset_index to avoid such indexing issues later in the processing\n",
    "training = loans.iloc[0:7000,:]\n",
    "validation = loans.iloc[7000:10000,:]\n",
    "test = loans.iloc[10000:,:]"
   ]
  },
  {
   "cell_type": "code",
   "execution_count": 20,
   "metadata": {},
   "outputs": [],
   "source": [
    "# Remove target column to create feature only dataset: 'X_train', 'X_val', and 'X_test', respectively \n",
    "X_train = training.loc[:, training.columns != 'loan_status']\n",
    "X_val = validation.loc[:, validation.columns != 'loan_status']\n",
    "X_test = test.loc[:, test.columns != 'loan_status']\n",
    "\n",
    "# Keep a copy of the unscaled features using the \".copy()\" method, and name them 'X_train_unscale', 'X_val_unscale', and 'X_test_unscale', respectively\n",
    "X_train_unscale = X_train.copy()\n",
    "X_val_unscale = X_val.copy()\n",
    "X_test_unscale = X_test.copy()\n",
    "\n",
    "# Scale 'X_train', 'X_val', and 'X_test' data using the mean and standard deviation of the training set. \n",
    "X_test=(X_test-X_train.mean())/X_train.std()\n",
    "X_val=(X_val-X_train.mean())/X_train.std()\n",
    "X_train=(X_train-X_train.mean())/X_train.std()\n",
    "\n",
    "# Store target column as y-variables in the following datasets: 'y_train', 'y_val', and 'y_test'\n",
    "y_train = training.loc[:,'loan_status']\n",
    "y_val = validation.loc[:,'loan_status']\n",
    "y_test = test.loc[:,'loan_status']\n",
    "\n"
   ]
  },
  {
   "cell_type": "code",
   "execution_count": 21,
   "metadata": {},
   "outputs": [
    {
     "name": "stdout",
     "output_type": "stream",
     "text": [
      "   fico_range_high  fico_range_low  acc_now_delinq  installment  \\\n",
      "0         0.632298        0.632335       -0.069226    -0.571987   \n",
      "1        -0.166243       -0.166241       -0.069226    -0.507801   \n",
      "2        -0.645367       -0.645386       -0.069226     1.713049   \n",
      "3        -0.325951       -0.325956       -0.069226     0.529051   \n",
      "4         0.153174        0.153190       -0.069226    -0.764702   \n",
      "\n",
      "   collections_12_mths_ex_med  tax_liens  revol_bal  total_acc  annual_inc  \\\n",
      "0                   -0.120641  -0.143146  -0.266121  -0.698690   -0.236840   \n",
      "1                   -0.120641  -0.143146  -0.669710   0.310075   -0.283198   \n",
      "2                   -0.120641  -0.143146   4.592428   0.562267    1.107559   \n",
      "3                   -0.120641  -0.143146  -0.536212   2.663861   -0.357372   \n",
      "4                   -0.120641  -0.143146  -0.039944  -0.446499   -0.487176   \n",
      "\n",
      "   delinq_2yrs  ...  addr_state_SD  addr_state_TN  addr_state_TX  \\\n",
      "0    -0.361361  ...      -0.041437      -0.126344       -0.29572   \n",
      "1    -0.361361  ...      -0.041437      -0.126344       -0.29572   \n",
      "2    -0.361361  ...      -0.041437      -0.126344       -0.29572   \n",
      "3    -0.361361  ...      -0.041437      -0.126344       -0.29572   \n",
      "4    -0.361361  ...      -0.041437      -0.126344       -0.29572   \n",
      "\n",
      "   addr_state_UT  addr_state_VA  addr_state_VT  addr_state_WA  addr_state_WI  \\\n",
      "0      -0.095291      -0.171045      -0.050771      -0.146957      -0.110862   \n",
      "1      -0.095291      -0.171045      -0.050771      -0.146957      -0.110862   \n",
      "2      -0.095291      -0.171045      -0.050771      -0.146957      -0.110862   \n",
      "3      -0.095291      -0.171045      -0.050771      -0.146957      -0.110862   \n",
      "4      -0.095291       5.845596      -0.050771      -0.146957      -0.110862   \n",
      "\n",
      "   addr_state_WV  addr_state_WY  \n",
      "0      -0.069858      -0.049337  \n",
      "1      -0.069858      -0.049337  \n",
      "2      -0.069858      -0.049337  \n",
      "3      -0.069858      -0.049337  \n",
      "4      -0.069858      -0.049337  \n",
      "\n",
      "[5 rows x 116 columns]\n",
      "1    77.314286\n",
      "0    22.685714\n",
      "Name: loan_status, dtype: float64\n",
      "      fico_range_high  fico_range_low  acc_now_delinq  installment  \\\n",
      "7000        -0.166243       -0.166241       -0.069226     1.356238   \n",
      "7001        -1.124492       -1.124532       -0.069226    -1.318516   \n",
      "7002         0.792007        0.792051       -0.069226    -0.285236   \n",
      "7003        -0.645367       -0.645386       -0.069226     1.043130   \n",
      "7004         0.472590        0.472620       -0.069226     2.022386   \n",
      "\n",
      "      collections_12_mths_ex_med  tax_liens  revol_bal  total_acc  annual_inc  \\\n",
      "7000                   -0.120641  -0.143146   0.211003   0.057884   -0.209025   \n",
      "7001                   -0.120641  -0.143146  -0.490182  -1.034945   -0.969305   \n",
      "7002                   -0.120641  -0.143146  -0.244241  -1.203073   -0.005047   \n",
      "7003                   -0.120641   2.978411  -0.250588  -0.950881    0.087670   \n",
      "7004                   -0.120641  -0.143146   1.187130  -0.278371    0.736690   \n",
      "\n",
      "      delinq_2yrs  ...  addr_state_SD  addr_state_TN  addr_state_TX  \\\n",
      "7000    -0.361361  ...      -0.041437      -0.126344       -0.29572   \n",
      "7001    -0.361361  ...      -0.041437      -0.126344       -0.29572   \n",
      "7002    -0.361361  ...      -0.041437      -0.126344       -0.29572   \n",
      "7003    -0.361361  ...      -0.041437      -0.126344       -0.29572   \n",
      "7004    -0.361361  ...      -0.041437      -0.126344       -0.29572   \n",
      "\n",
      "      addr_state_UT  addr_state_VA  addr_state_VT  addr_state_WA  \\\n",
      "7000      -0.095291      -0.171045      -0.050771      -0.146957   \n",
      "7001      -0.095291      -0.171045      -0.050771      -0.146957   \n",
      "7002      -0.095291      -0.171045      -0.050771      -0.146957   \n",
      "7003      -0.095291      -0.171045      -0.050771      -0.146957   \n",
      "7004      -0.095291       5.845596      -0.050771      -0.146957   \n",
      "\n",
      "      addr_state_WI  addr_state_WV  addr_state_WY  \n",
      "7000      -0.110862      -0.069858      -0.049337  \n",
      "7001      -0.110862      -0.069858      -0.049337  \n",
      "7002      -0.110862      -0.069858      -0.049337  \n",
      "7003       9.018942      -0.069858      -0.049337  \n",
      "7004      -0.110862      -0.069858      -0.049337  \n",
      "\n",
      "[5 rows x 116 columns]\n",
      "1    76.233333\n",
      "0    23.766667\n",
      "Name: loan_status, dtype: float64\n",
      "       fico_range_high  fico_range_low  acc_now_delinq  installment  \\\n",
      "10000         3.507046        3.507209       -0.069226     1.029674   \n",
      "10001         0.472590        0.472620       -0.069226     1.823439   \n",
      "10002        -0.325951       -0.325956       -0.069226     0.877844   \n",
      "10003        -0.166243       -0.166241       -0.069226    -1.451769   \n",
      "10004         1.750256        1.750342       -0.069226     1.252914   \n",
      "\n",
      "       collections_12_mths_ex_med  tax_liens  revol_bal  total_acc  \\\n",
      "10000                   -0.120641  -0.143146  -0.317156  -0.782754   \n",
      "10001                   -0.120641  -0.143146   1.061682  -0.278371   \n",
      "10002                   -0.120641  -0.143146   0.103668   0.226011   \n",
      "10003                   -0.120641  -0.143146  -0.323813  -0.026180   \n",
      "10004                   -0.120641  -0.143146   5.575366   0.057884   \n",
      "\n",
      "       annual_inc  delinq_2yrs  ...  addr_state_SD  addr_state_TN  \\\n",
      "10000   -0.375915    -0.361361  ...      -0.041437      -0.126344   \n",
      "10001    0.458539    -0.361361  ...      -0.041437      -0.126344   \n",
      "10002    0.458539    -0.361361  ...      -0.041437      -0.126344   \n",
      "10003    0.532712    -0.361361  ...      -0.041437      -0.126344   \n",
      "10004   -0.301742    -0.361361  ...      -0.041437      -0.126344   \n",
      "\n",
      "       addr_state_TX  addr_state_UT  addr_state_VA  addr_state_VT  \\\n",
      "10000      -0.295720      -0.095291      -0.171045      -0.050771   \n",
      "10001       3.381088      -0.095291      -0.171045      -0.050771   \n",
      "10002      -0.295720      -0.095291      -0.171045      -0.050771   \n",
      "10003      -0.295720      -0.095291       5.845596      -0.050771   \n",
      "10004      -0.295720      -0.095291      -0.171045      -0.050771   \n",
      "\n",
      "       addr_state_WA  addr_state_WI  addr_state_WV  addr_state_WY  \n",
      "10000      -0.146957      -0.110862      -0.069858      -0.049337  \n",
      "10001      -0.146957      -0.110862      -0.069858      -0.049337  \n",
      "10002      -0.146957      -0.110862      -0.069858      -0.049337  \n",
      "10003      -0.146957      -0.110862      -0.069858      -0.049337  \n",
      "10004      -0.146957      -0.110862      -0.069858      -0.049337  \n",
      "\n",
      "[5 rows x 116 columns]\n",
      "1    77.39726\n",
      "0    22.60274\n",
      "Name: loan_status, dtype: float64\n",
      "(7000, 116) (7000,) (3000, 116) (3000,) (2628, 116) (2628,)\n",
      "['fico_range_high' 'fico_range_low' 'acc_now_delinq' 'installment'\n",
      " 'collections_12_mths_ex_med' 'tax_liens' 'revol_bal' 'total_acc'\n",
      " 'annual_inc' 'delinq_2yrs' 'pub_rec_bankruptcies' 'loan_amnt' 'open_acc'\n",
      " 'revol_util' 'delinq_amnt' 'chargeoff_within_12_mths' 'inq_last_6mths'\n",
      " 'pub_rec' 'dti' 'int_rate' 'home_ownership_OTHER' 'home_ownership_OWN'\n",
      " 'home_ownership_RENT' 'term_ 60 months' 'sub_grade_A2' 'sub_grade_A3'\n",
      " 'sub_grade_A4' 'sub_grade_A5' 'sub_grade_B1' 'sub_grade_B2'\n",
      " 'sub_grade_B3' 'sub_grade_B4' 'sub_grade_B5' 'sub_grade_C1'\n",
      " 'sub_grade_C2' 'sub_grade_C3' 'sub_grade_C4' 'sub_grade_C5'\n",
      " 'sub_grade_D1' 'sub_grade_D2' 'sub_grade_D3' 'sub_grade_D4'\n",
      " 'sub_grade_D5' 'sub_grade_E1' 'sub_grade_E2' 'sub_grade_E3'\n",
      " 'sub_grade_E4' 'sub_grade_E5' 'sub_grade_F1' 'sub_grade_F2'\n",
      " 'sub_grade_F3' 'sub_grade_F4' 'sub_grade_F5' 'sub_grade_G'\n",
      " 'verification_status_Source Verified' 'verification_status_Verified'\n",
      " 'purpose_credit_card' 'purpose_debt_consolidation'\n",
      " 'purpose_home_improvement' 'purpose_house' 'purpose_major_purchase'\n",
      " 'purpose_medical' 'purpose_moving' 'purpose_other'\n",
      " 'purpose_small_business' 'purpose_vacation' 'purpose_wedding'\n",
      " 'addr_state_AL' 'addr_state_AR' 'addr_state_AZ' 'addr_state_CA'\n",
      " 'addr_state_CO' 'addr_state_CT' 'addr_state_DC' 'addr_state_DE'\n",
      " 'addr_state_FL' 'addr_state_GA' 'addr_state_HI' 'addr_state_ID'\n",
      " 'addr_state_IL' 'addr_state_IN' 'addr_state_KS' 'addr_state_KY'\n",
      " 'addr_state_LA' 'addr_state_MA' 'addr_state_MD' 'addr_state_ME'\n",
      " 'addr_state_MI' 'addr_state_MN' 'addr_state_MO' 'addr_state_MS'\n",
      " 'addr_state_MT' 'addr_state_NC' 'addr_state_ND' 'addr_state_NE'\n",
      " 'addr_state_NH' 'addr_state_NJ' 'addr_state_NM' 'addr_state_NV'\n",
      " 'addr_state_NY' 'addr_state_OH' 'addr_state_OK' 'addr_state_OR'\n",
      " 'addr_state_PA' 'addr_state_RI' 'addr_state_SC' 'addr_state_SD'\n",
      " 'addr_state_TN' 'addr_state_TX' 'addr_state_UT' 'addr_state_VA'\n",
      " 'addr_state_VT' 'addr_state_WA' 'addr_state_WI' 'addr_state_WV'\n",
      " 'addr_state_WY']\n"
     ]
    }
   ],
   "source": [
    "# Print the first five instances for training, validation, and test data sets, respectively, as well as the percentages of all outcome levels\n",
    "\n",
    "print(X_train.head())\n",
    "freq = y_train.value_counts()                         \n",
    "print(freq/sum(freq)*100) \n",
    "\n",
    "print(X_val.head())\n",
    "freq = y_val.value_counts()                         \n",
    "print(freq/sum(freq)*100) \n",
    "\n",
    "print(X_test.head())\n",
    "freq = y_test.value_counts()                         \n",
    "print(freq/sum(freq)*100) \n",
    "\n",
    "\n",
    "# Print the shapes of the split datasets\n",
    "print(X_train.shape, y_train.shape, X_val.shape,y_val.shape, X_test.shape, y_test.shape)\n",
    "\n",
    "# Print the feature names\n",
    "print(X_train.columns.values)\n"
   ]
  },
  {
   "cell_type": "markdown",
   "metadata": {},
   "source": [
    "# Part 2. Predicting with (basic) Logistic Regression \n",
    "\n",
    "Let us divide this step into three stage: model training, decision criterion selection, and performance evaluation. The test data should be **only** used in the last stage. "
   ]
  },
  {
   "cell_type": "code",
   "execution_count": 22,
   "metadata": {},
   "outputs": [
    {
     "name": "stdout",
     "output_type": "stream",
     "text": [
      "The trained coefficients for the logistic regression:\n",
      "[1.45933399] [[ 2.00962446e+02 -2.00738169e+02 -3.88818743e-02 -6.90345488e-01\n",
      "  -5.66160527e-03 -7.45412665e-02  7.44755899e-02  2.18458225e-01\n",
      "   5.98952972e-02 -8.51756694e-02 -8.94470077e-02  6.30713746e-01\n",
      "  -2.10906335e-01  2.03698345e-02  5.01432950e-02  1.26727962e-02\n",
      "  -5.67875758e-02  1.32450041e-01 -2.54391361e-01  6.49208659e-01\n",
      "   4.29522943e-01 -5.27838694e-02 -1.34459606e-01 -4.23678098e-01\n",
      "  -8.92777648e-02 -9.52126098e-02 -1.92903121e-02 -2.00713058e-01\n",
      "  -2.23885660e-01 -2.30992503e-01 -2.86845209e-01 -4.03246564e-01\n",
      "  -4.12501362e-01 -4.44395593e-01 -4.44929796e-01 -5.28814077e-01\n",
      "  -5.78165455e-01 -5.09350393e-01 -4.74193908e-01 -5.17201690e-01\n",
      "  -4.62799385e-01 -5.43818834e-01 -4.41615295e-01 -4.75731447e-01\n",
      "  -4.32240390e-01 -4.54676381e-01 -3.66198973e-01 -4.37507873e-01\n",
      "  -3.13842003e-01 -3.02194045e-01 -2.89163486e-01 -2.84352154e-01\n",
      "  -2.38685116e-01 -3.48616260e-01 -3.00153572e-02 -5.12979323e-02\n",
      "  -1.81205451e-01 -2.48479873e-01 -7.87671670e-02 -1.34086474e-02\n",
      "  -1.07759580e-01 -1.03120616e-01 -1.05719490e-01 -1.34840052e-01\n",
      "  -1.00678502e-01 -5.57054750e-02  8.56305288e-04 -1.45430359e-03\n",
      "  -4.83414078e-02  5.02694279e-02  8.94370191e-02  1.32259611e-01\n",
      "   4.73356385e-02 -1.35869161e-02  5.58450923e-02  3.99005205e-02\n",
      "   3.71057958e-02  1.11635606e-01 -4.55191635e-03  8.85713435e-02\n",
      "   1.46346003e-02  2.39973098e-02  2.92125950e-02  2.78290954e-02\n",
      "   6.04609589e-02  4.21579469e-02  2.25850034e-02  4.11660231e-02\n",
      "   3.82516421e-02  2.73681181e-02 -2.41863883e-02  1.07132569e-01\n",
      "   7.93713425e-02  5.47104870e-03  3.21959277e-03  6.12990358e-02\n",
      "   1.65412983e-03  2.45012781e-04  3.40102937e-02  5.22084703e-02\n",
      "   5.93287541e-02 -2.46254019e-03  7.49596627e-03  9.52353510e-02\n",
      "   4.90958322e-02  3.25837518e-02 -6.39030432e-03  2.56021072e-02\n",
      "   8.40200486e-02  3.31471924e-02  7.16611706e-02 -2.12259929e-02\n",
      "   1.38281452e-01  1.12056035e-01  2.79612521e-02  6.53876249e-02]]\n",
      "0\n"
     ]
    }
   ],
   "source": [
    "#Fit a LogisticRegression model using the training data\n",
    "#Create an instance of logisticregression named lgstc_reg \n",
    "\n",
    "lgstc_reg =  LogisticRegression(penalty=\"none\",solver=\"newton-cg\")     \n",
    "\n",
    "# Fit logististic regression to training set\n",
    "lgstc_reg.fit(X_train, y_train)                                        # fit training data on logistic regression \n",
    "\n",
    "print('The trained coefficients for the logistic regression:')\n",
    "print(lgstc_reg.intercept_, lgstc_reg.coef_)      \n",
    " \n",
    "type(lgstc_reg.coef_)\n",
    "n_zeros = np.count_nonzero(lgstc_reg.coef_==0)\n",
    "print(n_zeros)"
   ]
  },
  {
   "cell_type": "code",
   "execution_count": 23,
   "metadata": {},
   "outputs": [
    {
     "name": "stdout",
     "output_type": "stream",
     "text": [
      "13.52306428571454\n",
      "13.619126666666727\n",
      "13.498044140030544\n",
      "14233.028571428571\n",
      "14311.575\n",
      "14268.635844748858\n"
     ]
    }
   ],
   "source": [
    "# Print the average interest rate and loan amount in the unscaled training, validation, and test datasets\n",
    "print(X_train_unscale['int_rate'].mean())\n",
    "print(X_val_unscale['int_rate'].mean())\n",
    "print(X_test_unscale['int_rate'].mean())\n",
    "\n",
    "print(X_train_unscale['loan_amnt'].mean())\n",
    "print(X_val_unscale['loan_amnt'].mean())\n",
    "print(X_test_unscale['loan_amnt'].mean())"
   ]
  },
  {
   "cell_type": "code",
   "execution_count": 24,
   "metadata": {},
   "outputs": [],
   "source": [
    "\n",
    "\n",
    "def get_data (evaluate_on):\n",
    "    ###########\n",
    "    # Get the validation/training data, depending on the data mode\n",
    "    # Input: evaluate_on is either 'test' or 'validate', meaning whether the evaluation is performed on the validation or test data\n",
    "    # Output: the appropriate feature and outcome data as a tuple\n",
    "    ###########\n",
    "    \n",
    "    if evaluate_on == 'test':\n",
    "        X,y,X_unscale = X_test, y_test, X_test_unscale\n",
    "    elif evaluate_on == 'validate':\n",
    "        X,y,X_unscale = X_val, y_val, X_val_unscale\n",
    "    else:\n",
    "        print('Error: evaluate_on must be either \"test\" or \"validate\"')\n",
    "        X, y, X_unscale  = (None, None, None)\n",
    "        \n",
    "    return X,y, X_unscale\n",
    "    \n",
    "    \n",
    "\n",
    "def get_cm (z, reg_model, evaluate_on ):\n",
    "    \n",
    "    ###########\n",
    "    # Get the confusion matrix of given the threshold, classifier and the dataset\n",
    "    # Input: z is the threshold\n",
    "    #        reg_model is the sklearn classifier \n",
    "    #        evaluate_on is either 'test' or 'validate', meaning whether the confusion matrix is evaluated on the\n",
    "    #        validation data or test data\n",
    "    # Output: the confusion matrix\n",
    "    ###########\n",
    "    \n",
    "\n",
    "    # Get the appropriate feature and outcome data    \n",
    "    X,y, _ = get_data (evaluate_on)\n",
    "    \n",
    "    \n",
    "    # If prob for data set > threshold predict 1\n",
    "    preds = np.where(reg_model.predict_proba(X)[:,1] > z, 1, 0)                                      \n",
    "    \n",
    "    ''' # Print the acceptance rate. Uncomment if needed.\n",
    "    print('Number of loans accepted: ', np.sum(preds) )\n",
    "    print('Number of loans rejected: ', np.sum(1-preds) )'''\n",
    "    \n",
    "    # create confusion matrix \n",
    "    cm = confusion_matrix(y, preds,labels=[1, 0], sample_weight=None) # confusion matrix \n",
    "    \n",
    "    return cm\n",
    "\n",
    "\n",
    "\n",
    "def get_ratios (cm):\n",
    "    ###########\n",
    "    # Get the relavant ratios given a confusion matrix\n",
    "    # Input: cm is a 2*2 confusion matrix\n",
    "    # Output: Accuracy, TPR, FNR, TNR, and FPR\n",
    "    ###########\n",
    "    \n",
    "    \n",
    "    TP = cm[0][0] # True Positives                                                                                          \n",
    "    FN = cm[0][1] # False Positives                                                                                          \n",
    "    FP = cm[1][0] # True Negatives                                                                                          \n",
    "    TN = cm[1][1] # False Negatives                                                                                          \n",
    "        \n",
    "    TPR = TP/(TP+FN) # True Positive Rate (sensitivity/recall)                                                                                       \n",
    "    FNR = FN/(TP+FN) # False Negative Rate (miss rate)                                                                                      \n",
    "    TNR = TN/(TN+FP) # True Negative Rate (specificity)                                                                                      \n",
    "    FPR = FP/(TN+FP) # False Positive Rate (fall-out) \n",
    "    \n",
    "    Accuracy = (TP+TN)/(TP+FN+FP+TN)\n",
    "    \n",
    "    return Accuracy, TPR, FNR, TNR, FPR\n",
    "\n"
   ]
  },
  {
   "cell_type": "code",
   "execution_count": 25,
   "metadata": {},
   "outputs": [],
   "source": [
    "def get_EP (z, reg_model, evaluate_on):\n",
    "    \n",
    "    ###########\n",
    "    # Evaluate the (realized) expected payoff given the threshold, classifier, and based on the validation/test data set\n",
    "    # Input: z is the threshold\n",
    "    #        reg_model is a sklearn classifier\n",
    "    #        evaluate_on is either 'test' or 'validate', meaning whether the confusion matrix is generated from the...\n",
    "    #        validation data or test data\n",
    "    # Output: The (realized) expected payff from an average borrower\n",
    "    # Note: The gain and loss parameters P and L should be estimated from the validation/test data\n",
    "    ###########\n",
    "    \n",
    "    # Get the appropriate feature and outcome data    \n",
    "    X,y, X_unscale = get_data (evaluate_on)\n",
    "\n",
    "    cm = get_cm (z, reg_model, evaluate_on)\n",
    "       \n",
    "    \n",
    "    Accuracy, TPR, FNR, TNR, FPR = get_ratios (cm)\n",
    "    \n",
    "    frac_p = np.sum(y)/len(y) \n",
    "    frac_n = np.sum(1-y)/len(y) \n",
    "\n",
    "    P = (X_unscale['int_rate'].mean()) * (X_unscale['loan_amnt'].mean())/100\n",
    "    L = (X_unscale['loan_amnt'].mean())\n",
    "    \n",
    "    EP = P * frac_p * TPR - L * frac_n * FPR \n",
    "\n",
    "    return EP\n",
    "\n",
    "\n"
   ]
  },
  {
   "cell_type": "code",
   "execution_count": 26,
   "metadata": {},
   "outputs": [],
   "source": [
    "\n",
    "\n",
    "# Let the threshold Z range from 0.5 to 1. \n",
    "zrange_default = np.arange(0.5,1,0.001) # a grid search for the threshold \n",
    "\n",
    "\n",
    "def EP_curve (reg_model, evaluate_on, zrange = zrange_default):\n",
    "    \n",
    "    ###########    \n",
    "    # Evaluate and plot the (realized) expected payoff curve. Also, we obtain the threshold based on the curve.\n",
    "    # Input: reg_model is the classifier of interest\n",
    "    #        evaluate_on is either 'test' or 'validate', \n",
    "    #        meaning whether the evaluation is based on validation or test data\n",
    "    #        zrange is the range that the treshold Z takes value in\n",
    "    # Output: The optimal threshold\n",
    "    ###########\n",
    "\n",
    "\n",
    "    # We calculate the expected payoff as a function of Z\n",
    "    EP_lr = np.array([get_EP(z, reg_model, evaluate_on = evaluate_on)  for z in zrange]) #The expected payoff curve for the logistic regression\n",
    "    EP_rg = EP_lr[0] + zrange * (EP_lr[-1] - EP_lr[0]) #The expected payoff curve for the random guess predictor\n",
    "\n",
    "    plt.plot( zrange, EP_rg,linestyle='--',color = 'black', label='Random Predction')\n",
    "    plt.plot( zrange , EP_lr,label='Logistic Regression')\n",
    "\n",
    "    plt.xlabel('Z')\n",
    "    plt.ylabel('Expected payoff')\n",
    "    plt.legend()\n",
    "    plt.show()\n",
    "\n",
    "\n",
    "\n",
    "\n",
    "\n",
    "    # Analysis of the optimal threshold\n",
    "\n",
    "    z_optimal = zrange [np.argmax(EP_lr)]\n",
    "\n",
    "    print('-------------')\n",
    "    print('The optimal Z is: ', z_optimal)\n",
    "    print('Evaluated on: the %s data set' %evaluate_on)\n",
    "    print('   The maximual expected payoff is: ', np.max (EP_lr) )\n",
    "    print('   The confusion matrix under the optimal Z is: ')\n",
    "    print(get_cm(z_optimal, reg_model, evaluate_on = evaluate_on))\n",
    "    Accuracy, TPR, FNR, TNR, FPR = get_ratios (get_cm(z_optimal, reg_model, evaluate_on = evaluate_on))\n",
    "    print('   The relavant ratios under the optimal Z are: ')\n",
    "    print('   Accuracy rate:', Accuracy, ' TPR:', TPR, ' FPR:',  FPR)\n",
    "    print('-------------')\n",
    "    \n",
    "    return z_optimal\n",
    "    "
   ]
  },
  {
   "cell_type": "code",
   "execution_count": 27,
   "metadata": {},
   "outputs": [
    {
     "data": {
      "image/png": "[encoded data removed]",
      "text/plain": [
       "<Figure size 432x288 with 1 Axes>"
      ]
     },
     "metadata": {
      "needs_background": "light"
     },
     "output_type": "display_data"
    },
    {
     "name": "stdout",
     "output_type": "stream",
     "text": [
      "-------------\n",
      "The optimal Z is:  0.8920000000000003\n",
      "Evaluated on: the validate data set\n",
      "   The maximual expected payoff is:  187.4749629880168\n",
      "   The confusion matrix under the optimal Z is: \n",
      "[[ 641 1646]\n",
      " [  48  665]]\n",
      "   The relavant ratios under the optimal Z are: \n",
      "   Accuracy rate: 0.43533333333333335  TPR: 0.28027984258854394  FPR: 0.06732117812061711\n",
      "-------------\n"
     ]
    },
    {
     "data": {
      "text/plain": [
       "0.8920000000000003"
      ]
     },
     "execution_count": 27,
     "metadata": {},
     "output_type": "execute_result"
    }
   ],
   "source": [
    "# Plot the expected payoff curve of the logistic regression model and print 'z_optimal', \n",
    "# both based on the validation data\n",
    "\n",
    "EP_curve(lgstc_reg, 'validate')"
   ]
  },
  {
   "cell_type": "code",
   "execution_count": 28,
   "metadata": {},
   "outputs": [],
   "source": [
    "\n",
    "\n",
    "def loss_evaluation (reg_model):\n",
    "    \n",
    "    # y_train_pred, y_val_pred, and y_test_pred are the predicted probabilities for the training set\n",
    "    # validation set and test set using the fitted logistic regression model\n",
    "\n",
    "    y_train_pred=reg_model.predict_proba(X_train)\n",
    "    y_val_pred=reg_model.predict_proba(X_val)\n",
    "    y_test_pred=reg_model.predict_proba(X_test)\n",
    "\n",
    "    # Calculate maximum likelihood for training set, validation set, and test set\n",
    "\n",
    "    mle_vector_train = np.log(np.where(y_train == 1, y_train_pred[:,1], y_train_pred[:,0]))\n",
    "    mle_vector_val = np.log(np.where(y_val == 1, y_val_pred[:,1], y_val_pred[:,0]))\n",
    "    mle_vector_test = np.log(np.where(y_test == 1, y_test_pred[:,1], y_test_pred[:,0]))\n",
    "\n",
    "    # Calculate loss functions from maximum likelihoods\n",
    "\n",
    "    loss_function_training = np.negative(np.sum(mle_vector_train)/len(y_train))\n",
    "    loss_function_val = np.negative(np.sum(mle_vector_val)/len(y_val))\n",
    "    loss_function_test = np.negative(np.sum(mle_vector_test)/len(y_test))\n",
    "    \n",
    "    return loss_function_training, loss_function_val, loss_function_test\n",
    "\n",
    "\n"
   ]
  },
  {
   "cell_type": "code",
   "execution_count": 29,
   "metadata": {},
   "outputs": [
    {
     "name": "stdout",
     "output_type": "stream",
     "text": [
      "Average loss function for training set = 0.47261086019699244\n",
      "Average loss function for validation set = 0.503466329962089\n",
      "Average loss function for test set = 0.49720208109652037\n"
     ]
    }
   ],
   "source": [
    "# Print the MLE loss function values on training, validation, and test datasets\n",
    "loss_function_training, loss_function_val, loss_function_test = loss_evaluation(lgstc_reg)\n",
    "print('Average loss function for training set =', loss_function_training)\n",
    "print('Average loss function for validation set =', loss_function_val)\n",
    "print('Average loss function for test set =', loss_function_test)"
   ]
  },
  {
   "cell_type": "code",
   "execution_count": 30,
   "metadata": {},
   "outputs": [],
   "source": [
    "\n",
    "\n",
    "def get_AUC (reg_model, evaluate_on = 'test'):\n",
    "    \n",
    "    ###########\n",
    "    # Plot the ROC curve of a given classifier and the data to evaluate on. Also, calculate the AUC measure.\n",
    "    # Input: reg_model is a sklearn classifier \n",
    "    #        evaluate_on is either 'test' or 'validate', meaning whether the confusion matrix is evaluated on the\n",
    "    #        validation data or test data. By default, the ROC curve is evaluated on the test data.\n",
    "    # Output: The AUC measure. Also, plot the curve.\n",
    "    ###########\n",
    "    \n",
    "    # Get the appropriate feature and outcome data    \n",
    "    X,y, _ = get_data (evaluate_on)\n",
    "    \n",
    "    # Get the predicted probablities from the current model and from random predictions\n",
    "    model_prob = reg_model.predict_proba(X)\n",
    "    model_prob = model_prob[:, 1]\n",
    "    ns_prob=[0 for _ in range(len(y))]\n",
    "    \n",
    "    # Get the AUC scores\n",
    "    ns_auc=roc_auc_score(y, ns_prob)\n",
    "    model_auc = roc_auc_score(y,model_prob)\n",
    "    \n",
    "    \n",
    "    return model_auc\n"
   ]
  },
  {
   "cell_type": "code",
   "execution_count": 31,
   "metadata": {},
   "outputs": [
    {
     "data": {
      "text/plain": [
       "0.6863166241239004"
      ]
     },
     "execution_count": 31,
     "metadata": {},
     "output_type": "execute_result"
    }
   ],
   "source": [
    "# Print the AUC measure of the logistic regression on the test data\n",
    "get_AUC(lgstc_reg, evaluate_on = 'test')\n",
    "\n"
   ]
  },
  {
   "cell_type": "code",
   "execution_count": 32,
   "metadata": {},
   "outputs": [
    {
     "data": {
      "text/plain": [
       "array([[ 596, 1438],\n",
       "       [  56,  538]], dtype=int64)"
      ]
     },
     "execution_count": 32,
     "metadata": {},
     "output_type": "execute_result"
    }
   ],
   "source": [
    "# Evaluate and print the confusion matrix (based on the test data)\n",
    "get_cm(0.89, lgstc_reg, 'test')\n"
   ]
  },
  {
   "cell_type": "markdown",
   "metadata": {},
   "source": [
    "* Evaluate the expected payoff of the loan based on the average interest rates and loan amounts"
   ]
  },
  {
   "cell_type": "code",
   "execution_count": 33,
   "metadata": {},
   "outputs": [
    {
     "data": {
      "text/plain": [
       "132.74144000711516"
      ]
     },
     "execution_count": 33,
     "metadata": {},
     "output_type": "execute_result"
    }
   ],
   "source": [
    "# Evaluate the expected payoff of the loan based on the average interest rates and loan amounts in the test data\n",
    "get_EP(0.89, lgstc_reg, 'test')\n"
   ]
  },
  {
   "cell_type": "markdown",
   "metadata": {},
   "source": [
    "# Part 3. Improving the Prediction using Regularization\n",
    "\n",
    "Let us use L1 regularization to improve the prediction model and ultimately, the loan acceptance decision. "
   ]
  },
  {
   "cell_type": "code",
   "execution_count": 34,
   "metadata": {},
   "outputs": [
    {
     "data": {
      "image/png": "[encoded data removed]",
      "text/plain": [
       "<Figure size 432x288 with 1 Axes>"
      ]
     },
     "metadata": {
      "needs_background": "light"
     },
     "output_type": "display_data"
    },
    {
     "data": {
      "image/png": "[encoded data removed]",
      "text/plain": [
       "<Figure size 432x288 with 1 Axes>"
      ]
     },
     "metadata": {
      "needs_background": "light"
     },
     "output_type": "display_data"
    },
    {
     "data": {
      "image/png": "[encoded data removed]",
      "text/plain": [
       "<Figure size 432x288 with 1 Axes>"
      ]
     },
     "metadata": {
      "needs_background": "light"
     },
     "output_type": "display_data"
    }
   ],
   "source": [
    "# Let the regularization parameter Lambda range from 5 to 145. (We use LAMBDA to store its range.) \n",
    "# For each lambda, fit a logistic regression with L1 regularization. \n",
    "\n",
    "# The range of lambda values\n",
    "LAMBDA = np.arange(5,155, 10)\n",
    "nzc = []\n",
    "lf_train = []\n",
    "lf_val = []\n",
    "lf_test = []\n",
    "auc_val = []\n",
    "auc_test = []\n",
    "\n",
    "for lam in LAMBDA:\n",
    "    c = 1/lam\n",
    "    lgstc_reg =  LogisticRegression(penalty=\"l1\", C = c, solver=\"liblinear\")     \n",
    "\n",
    "    lgstc_reg.fit(X_train, y_train)                                     \n",
    "\n",
    "    n_nonzeros = np.count_nonzero(lgstc_reg.coef_)\n",
    "    nzc.append(n_nonzeros)   \n",
    "    \n",
    "    loss_function_training, loss_function_val, loss_function_test = loss_evaluation(lgstc_reg)\n",
    "    lf_train.append(loss_function_training)\n",
    "    lf_val.append(loss_function_val)\n",
    "    lf_test.append(loss_function_test)\n",
    "    \n",
    "    auc_val.append(get_AUC(lgstc_reg, evaluate_on = 'validate'))\n",
    "    auc_test.append(get_AUC(lgstc_reg, evaluate_on = 'test'))\n",
    "    \n",
    "\n",
    "    \n",
    "# Plot the number of non-zero coefficients for the l1-regularized logistic regression as lambda changes\n",
    "plt.plot( LAMBDA, nzc,linestyle='--',color = 'black', label='non-zero coef')\n",
    "\n",
    "plt.xlabel('LAMBDA')\n",
    "plt.ylabel('Number of Non-zeros')\n",
    "plt.legend()\n",
    "plt.show()\n",
    "\n",
    "\n",
    "# Plot the likelihood loss function values (on training, validation, and test data sets) for the l1-regularized logistic regression as lambda changes\n",
    "plt.plot( LAMBDA, lf_train,linestyle='--',color = 'black', label='train loss function')\n",
    "plt.plot( LAMBDA, lf_val,linestyle='--',color = 'blue', label='val loss function')\n",
    "plt.plot( LAMBDA, lf_test,linestyle='--',color = 'red', label='test loss function')\n",
    "\n",
    "plt.xlabel('LAMBDA')\n",
    "plt.ylabel('MLE Loss Function')\n",
    "plt.legend()\n",
    "plt.show()\n",
    "\n",
    "\n",
    "# Plot the AUC measures for the l1-regularized logistic regression as lambda changes\n",
    "plt.plot( LAMBDA, auc_val,linestyle='--',color = 'black', label='val auc')\n",
    "plt.plot( LAMBDA, auc_test,linestyle='--',color = 'blue', label='test auc')\n",
    "\n",
    "plt.xlabel('LAMBDA')\n",
    "plt.ylabel('AUC')\n",
    "plt.legend()\n",
    "plt.show()\n",
    "\n"
   ]
  },
  {
   "cell_type": "markdown",
   "metadata": {},
   "source": [
    "* Suppose somebody has determined that the optimal regularization parameter is `lambda_optimal` = 40. What is the optimal threshold Z that obtains the highest expected payoff on the **validation** set? "
   ]
  },
  {
   "cell_type": "code",
   "execution_count": 35,
   "metadata": {},
   "outputs": [
    {
     "data": {
      "image/png": "[encoded data removed]",
      "text/plain": [
       "<Figure size 432x288 with 1 Axes>"
      ]
     },
     "metadata": {
      "needs_background": "light"
     },
     "output_type": "display_data"
    },
    {
     "name": "stdout",
     "output_type": "stream",
     "text": [
      "-------------\n",
      "The optimal Z is:  0.8710000000000003\n",
      "Evaluated on: the validate data set\n",
      "   The maximual expected payoff is:  142.6815787951215\n",
      "   The confusion matrix under the optimal Z is: \n",
      "[[ 528 1759]\n",
      " [  42  671]]\n",
      "   The relavant ratios under the optimal Z are: \n",
      "   Accuracy rate: 0.39966666666666667  TPR: 0.23087013554875382  FPR: 0.05890603085553997\n",
      "-------------\n",
      "0.8710000000000003\n"
     ]
    }
   ],
   "source": [
    "# Suppose somebody has determined that the optimal regularization parameter is lambda_optimal = 40. \n",
    "lambda_optimal = 40\n",
    "\n",
    "\n",
    "c = 1/lambda_optimal\n",
    "lgstc_reg =  LogisticRegression(penalty=\"l1\", C = c, solver=\"liblinear\")\n",
    "lgstc_reg.fit(X_train, y_train) \n",
    "z_optimal_L1 = EP_curve(lgstc_reg, 'validate')\n",
    "print(z_optimal_L1)\n"
   ]
  },
  {
   "cell_type": "code",
   "execution_count": 36,
   "metadata": {},
   "outputs": [
    {
     "name": "stdout",
     "output_type": "stream",
     "text": [
      "0.6984355187403368\n",
      "[[ 490 1544]\n",
      " [  38  556]]\n",
      "152.78742485034607\n"
     ]
    }
   ],
   "source": [
    "\n",
    "\n",
    "\n",
    "# Print the AUC score of the regualized logistics classifier on the test data\n",
    "print(get_AUC(lgstc_reg, evaluate_on = 'test'))\n",
    "\n",
    "\n",
    "# Print the confusion matrix of the regualized logistics classifier on the test data (given the previously chosen threshold 'z_optimal_l1')\n",
    "print(get_cm(z_optimal_L1, lgstc_reg, 'test'))\n",
    "\n",
    "\n",
    "\n",
    "# print the expected off on the test data (given the previously chosen threshold 'z_optimal_l1')\n",
    "print(get_EP(z_optimal_L1, lgstc_reg, 'test'))\n"
   ]
  }
 ],
 "metadata": {
  "kernelspec": {
   "display_name": "Python 3",
   "language": "python",
   "name": "python3"
  },
  "language_info": {
   "codemirror_mode": {
    "name": "ipython",
    "version": 3
   },
   "file_extension": ".py",
   "mimetype": "text/x-python",
   "name": "python",
   "nbconvert_exporter": "python",
   "pygments_lexer": "ipython3",
   "version": "3.8.8"
  }
 },
 "nbformat": 4,
 "nbformat_minor": 4
}
