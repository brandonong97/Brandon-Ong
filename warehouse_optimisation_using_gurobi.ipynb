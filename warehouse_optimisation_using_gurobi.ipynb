{
 "cells": [
  {
   "cell_type": "code",
   "execution_count": 1,
   "metadata": {},
   "outputs": [],
   "source": [
    "from gurobipy import *\n",
    "import numpy as np\n",
    "#set seed\n",
    "np.random.seed(123)"
   ]
  },
  {
   "cell_type": "markdown",
   "metadata": {},
   "source": [
    "### PART 1: BASELINE MODEL"
   ]
  },
  {
   "cell_type": "code",
   "execution_count": 2,
   "metadata": {},
   "outputs": [],
   "source": [
    "#BASELINE MODEL\n",
    "\n",
    "cost = np.array([[1.5, 2.5, 4.5, 0, 12],\n",
    "                [2, 2.6, 5.5, 6, 15], \n",
    "                [1, 0, 5, 7, 10],\n",
    "                [1.2, 2, 7, 8, 13],\n",
    "                [1.3, 2.2, 0, 10, 14]])\n",
    "\n",
    "#supply and demand\n",
    "supply = np.array([[100, 125, 200, 0, 25],\n",
    "                [120, 140, 150, 10, 50], \n",
    "                [90, 0, 125, 50, 30],\n",
    "                [75, 80, 110, 80, 80],\n",
    "                [150, 125, 0, 110, 30]])\n",
    "\n",
    "demand = np.array([[190, 100, 90, 25, 15],\n",
    "                [30, 120, 100, 30, 50], \n",
    "                [80, 50, 90, 5, 50],\n",
    "                [50, 160, 150, 20, 5],\n",
    "                [70, 40, 20, 150, 30]])\n",
    "supply = supply * 2\n",
    "\n",
    "#asssuming common warehouse\n",
    "demand2 = demand.sum(axis=0) #total demand for each type of fish\n",
    "\n",
    "#cost from supplier to warehouse\n",
    "truckdel = np.array([40, 80, 50, 70, 65])\n",
    "\n",
    "#supply nodes: M, fish types: N\n",
    "M, N = cost.shape\n",
    "\n",
    "ARCS1 = tuplelist([(0,0), (0,1), (0,2), (0,3), (0,4),\n",
    "                  (1,0), (1,1), (1,2), (1,3), (1,4),\n",
    "                  (2,0), (2,1), (2,2), (2,3), (2,4),\n",
    "                  (3,0), (3,1), (3,2), (3,3), (3,4),\n",
    "                  (4,0), (4,1), (4,2), (4,3), (4,4)])"
   ]
  },
  {
   "cell_type": "code",
   "execution_count": 27,
   "metadata": {},
   "outputs": [
    {
     "data": {
      "text/plain": [
       "array([388., 427., 536., 241., 143.])"
      ]
     },
     "execution_count": 27,
     "metadata": {},
     "output_type": "execute_result"
    }
   ],
   "source": [
    "demand2"
   ]
  },
  {
   "cell_type": "code",
   "execution_count": null,
   "metadata": {},
   "outputs": [],
   "source": [
    "n = 5  # numbre of restaurants franchise\n",
    "\n",
    "B = [i for i in range(1, n+1)]\n",
    "\n",
    "V = [0] + N"
   ]
  },
  {
   "cell_type": "code",
   "execution_count": 6,
   "metadata": {},
   "outputs": [],
   "source": [
    "#model\n",
    "def model_setup():\n",
    "    \n",
    "    fish = Model(\"Fish Warehouse\")\n",
    "\n",
    "    #variables\n",
    "    x = fish.addVars(ARCS1, name = \"Order\")\n",
    "    y = fish.addVars(M, name = \"Trucks\", vtype = GRB.INTEGER)\n",
    "\n",
    "    #objective\n",
    "    fish.setObjective(quicksum(cost[i,j]*x[i,j] for (i,j) in ARCS1) + \n",
    "                      quicksum(truckdel[i]*y[i] for i in range(M)), GRB.MINIMIZE)\n",
    "\n",
    "    #constraints\n",
    "    fish.addConstrs((x[i,j] <= supply[i,j] for (i,j) in ARCS1), \"Supply\")\n",
    "    fish.addConstrs((quicksum(x[i,j] for (i,j) in ARCS1.select('*',j)) >= demand2[j] for j in range(N)), \"Demand\")\n",
    "    fish.addConstrs((quicksum(x[i,j] for (i,j) in ARCS1.select(i,'*')) <= 500*y[i] for i in range(M)), \"Trucks\")\n",
    "\n",
    "    fish.setParam( 'OutputFlag', False )\n",
    "    \n",
    "    return fish\n",
    "\n",
    "#########Model Set-up############\n",
    "#Minimize Travelling Cost\n",
    "vr = Model(\"vehicle_routing\")\n",
    "\n",
    "# Create variables\n",
    "X = vr.addVars(A, vtype=GRB.BINARY, name = \"location\")\n",
    "\n",
    "u = vr.addVars(V,vtype=GRB.CONTINUOUS, name = \"loc_count\") #location of restaurants\n",
    "\n",
    "# Set objective - minimize travelling costs\n",
    "vr.setObjective( quicksum(c[i,j]*X[i,j] for (i,j) in A), GRB.MINIMIZE)\n",
    "\n",
    "# Assignment constraints:\n",
    "vr.addConstrs((quicksum(X[i,j] for j in V if j!=i) == 1 for i in N)) # outflow nodes\n",
    "vr.addConstrs((quicksum(X[i,j] for i in V if i!=j) == 1 for j in N)) # inflow nodes\n",
    "\n",
    "# Location count (nodes) constraints:\n",
    "vr.addConstrs(( X[i, j] == 1) >> (u[i]+ F[j] == u[j])  for i, j in A if i != 0 and j != 0)\n",
    "\n",
    "# Precedence constraints\n",
    "vr.addConstrs(u[i] >= F[i] for i in N )\n",
    "\n",
    "# Truck delivery capacity constraint:\n",
    "vr.addConstrs(u[i] <= Q for i in N)\n",
    "\n",
    "# Solving the model\n",
    "vr.optimize()"
   ]
  },
  {
   "cell_type": "code",
   "execution_count": 8,
   "metadata": {},
   "outputs": [
    {
     "name": "stdout",
     "output_type": "stream",
     "text": [
      "\n",
      " Optimal solution:\n",
      "Supplier 1.0\n",
      "[0.0, 60.0, 390.0, 0.0, 50.0]\n",
      "Supplier 2.0\n",
      "[0.0, 0.0, 0.0, 0.0, 0.0]\n",
      "Supplier 3.0\n",
      "[180.0, 0.0, 60.0, 100.0, 60.0]\n",
      "Supplier 4.0\n",
      "[150.0, 160.0, 0.0, 130.0, 40.0]\n",
      "Supplier 5.0\n",
      "[90.0, 250.0, 0.0, 0.0, 0.0]\n",
      "\n",
      " Trucks\n",
      "[1.0, 0.0, 1.0, 1.0, 1.0]\n",
      "\n",
      " Minimal cost: 7237.0\n"
     ]
    }
   ],
   "source": [
    "#solving\n",
    "fish = model_setup()\n",
    "\n",
    "fish.optimize()\n",
    "\n",
    "#optimals\n",
    "i = 0\n",
    "sol = []\n",
    "\n",
    "print(\"\\n Optimal solution:\")\n",
    "for v in fish.getVars():\n",
    "    sol.append(v.x)\n",
    "    i += 1\n",
    "    if i % 5 == 0:\n",
    "        if i / 5 < 6:\n",
    "            print(\"Supplier \" + str(i/5))\n",
    "        else:\n",
    "            print(\"\\n Trucks\")\n",
    "        print(sol)\n",
    "        sol = [] # create a new empty list\n",
    "        \n",
    "print(\"\\n Minimal cost:\", fish.objVal)"
   ]
  },
  {
   "cell_type": "markdown",
   "metadata": {},
   "source": [
    "### PART 2: DEMAND UNCERTAINTY MODEL"
   ]
  },
  {
   "cell_type": "code",
   "execution_count": 9,
   "metadata": {},
   "outputs": [],
   "source": [
    "#DEMAND UNCERTAINTY MODEL\n",
    "mean = np.array([[190, 100, 90, 25, 15],\n",
    "                [30, 120, 100, 30, 50], \n",
    "                [80, 50, 90, 5, 50],\n",
    "                [50, 160, 150, 20, 5],\n",
    "                [70, 40, 20, 150, 30]])\n",
    "\n",
    "stdev = np.array([[30, 15, 20, 5, 8], \n",
    "                [20, 50, 30, 12, 8],\n",
    "                [15, 15, 12, 2, 5],\n",
    "                [8, 45, 30, 5, 3],\n",
    "                [15, 10, 3, 35, 8]])"
   ]
  },
  {
   "cell_type": "code",
   "execution_count": 10,
   "metadata": {},
   "outputs": [],
   "source": [
    "#uncertainty\n",
    "Sample_Size = 1000\n",
    "allsol = []\n",
    "cost_full = np.zeros(Sample_Size)\n",
    "alltrucks = []\n",
    "\n",
    "for k in range(Sample_Size):\n",
    "    udemand = np.zeros(shape = (M, N)) # demand matrix generated from the random variable normal distribution\n",
    "\n",
    "    for i in range(M):\n",
    "        for j in range(N):\n",
    "            meanval = mean[i][j]\n",
    "            stdevval = stdev[i][j]\n",
    "            demand = np.ceil(np.maximum(np.random.normal(meanval, stdevval), 0))\n",
    "            udemand[i][j] = demand\n",
    "    \n",
    "    #asssuming common warehouse\n",
    "    demand2 = udemand.sum(axis=0) #total demand for each type of fish \n",
    "    \n",
    "    #solving\n",
    "    fish = model_setup()\n",
    "\n",
    "    fish.optimize()\n",
    "\n",
    "    #optimals\n",
    "    count = 0\n",
    "    i, j = 0, 0\n",
    "    sol = np.zeros(shape = (M+1, N))\n",
    "\n",
    "    for v in fish.getVars():\n",
    "        sol[i, j] = v.x\n",
    "        count += 1\n",
    "        j += 1\n",
    "        if count % 5 == 0:\n",
    "            j = 0\n",
    "            i += 1 \n",
    "\n",
    "    trucks = sol[5] #6th row\n",
    "    sol = sol[:-1]  #all rows except for last row\n",
    "    \n",
    "    alltrucks.append(trucks)\n",
    "    allsol.append(sol)\n",
    "    cost_full[k] = fish.objVal"
   ]
  },
  {
   "cell_type": "code",
   "execution_count": 11,
   "metadata": {
    "scrolled": true
   },
   "outputs": [
    {
     "name": "stdout",
     "output_type": "stream",
     "text": [
      "\n",
      " Optimal solution:\n",
      "Supplier 1\n",
      "[1.0, 65.0, 385.0, 0.0, 50.0]\n",
      "Supplier 2\n",
      "[0.0, 9.0, 0.0, 3.0, 0.0]\n",
      "Supplier 3\n",
      "[180.0, 0.0, 67.0, 100.0, 60.0]\n",
      "Supplier 4\n",
      "[145.0, 160.0, 0.0, 128.0, 44.0]\n",
      "Supplier 5\n",
      "[99.0, 244.0, 0.0, 4.0, 0.0]\n",
      "\n",
      " Trucks: [2.0, 1.0, 1.0, 1.0, 1.0]\n",
      "\n",
      " Minimal cost: 7350.732599999999\n"
     ]
    }
   ],
   "source": [
    "finalsol = np.ceil((np.array(allsol)).mean(axis = 0))\n",
    "finaltrucks = np.ceil((np.array(alltrucks)).mean(axis = 0))\n",
    "\n",
    "print(\"\\n Optimal solution:\")\n",
    "for i in range(len(finalsol)):\n",
    "    print(\"Supplier \" + str(i+1))\n",
    "    print(finalsol[i].tolist())\n",
    "\n",
    "print(\"\\n Trucks:\", finaltrucks.tolist())\n",
    "    \n",
    "print(\"\\n Minimal cost:\", np.average(cost_full))"
   ]
  },
  {
   "cell_type": "markdown",
   "metadata": {},
   "source": [
    "### PART 3: PROCUREMENT MODEL + CAPACITATED VEHICLE ROUTING PROBLEM"
   ]
  },
  {
   "cell_type": "markdown",
   "metadata": {},
   "source": [
    "#### SCENARIO 1: ONE TRUCK WITH LIMITED CAPACITY + NO SUBTOUR CONSTRAINTS"
   ]
  },
  {
   "cell_type": "markdown",
   "metadata": {},
   "source": [
    "**Assumptions**:\n",
    "*  Truck Limited Holding Capacity\n",
    "*  No subtour constrains - aka allow the truck to go back to pick up more fishes & continue the delivery\n",
    "*  Only need to go to each restaurant once to deliver"
   ]
  },
  {
   "cell_type": "markdown",
   "metadata": {},
   "source": [
    "<font color='darkcyan'>**I. Minimize total travelling costs LP**</font>"
   ]
  },
  {
   "cell_type": "code",
   "execution_count": 12,
   "metadata": {},
   "outputs": [],
   "source": [
    "import matplotlib.pyplot as plt"
   ]
  },
  {
   "cell_type": "code",
   "execution_count": 13,
   "metadata": {},
   "outputs": [],
   "source": [
    "rnd = np.random\n",
    "rnd.seed(123)"
   ]
  },
  {
   "cell_type": "code",
   "execution_count": 14,
   "metadata": {},
   "outputs": [],
   "source": [
    "n = 5  # numbre of restaurants franchise\n",
    "#Randomize locations of warehouse and 5 restaurants on a 100X200 axis\n",
    "xc = rnd.rand(n+1)*200   #n+1 means include the common warehouse\n",
    "yc = rnd.rand(n+1)*100"
   ]
  },
  {
   "cell_type": "code",
   "execution_count": 15,
   "metadata": {},
   "outputs": [
    {
     "data": {
      "text/plain": [
       "<matplotlib.collections.PathCollection at 0x1ddc7843190>"
      ]
     },
     "execution_count": 15,
     "metadata": {},
     "output_type": "execute_result"
    },
    {
     "data": {
      "image/png": "[encoded data removed]",
      "text/plain": [
       "<Figure size 432x288 with 1 Axes>"
      ]
     },
     "metadata": {
      "needs_background": "light"
     },
     "output_type": "display_data"
    }
   ],
   "source": [
    "#Plot the random locations on axis\n",
    "plt.plot(xc[0], yc[0], c='r', marker='s') #location of common warehouse\n",
    "plt.scatter(xc[1:], yc[1:], c='b') #location of of 5 restaurants"
   ]
  },
  {
   "cell_type": "code",
   "execution_count": 16,
   "metadata": {},
   "outputs": [
    {
     "data": {
      "text/plain": [
       "[1, 2, 3, 4, 5]"
      ]
     },
     "execution_count": 16,
     "metadata": {},
     "output_type": "execute_result"
    }
   ],
   "source": [
    "# Set of restaurants\n",
    "N = [i for i in range(1, n+1)]\n",
    "N"
   ]
  },
  {
   "cell_type": "code",
   "execution_count": 17,
   "metadata": {},
   "outputs": [
    {
     "data": {
      "text/plain": [
       "[0, 1, 2, 3, 4, 5]"
      ]
     },
     "execution_count": 17,
     "metadata": {},
     "output_type": "execute_result"
    }
   ],
   "source": [
    "#Set of nodes (including the common warehouse)\n",
    "V = [0] + N\n",
    "V"
   ]
  },
  {
   "cell_type": "code",
   "execution_count": 18,
   "metadata": {},
   "outputs": [
    {
     "data": {
      "text/plain": [
       "(0, 2)"
      ]
     },
     "execution_count": 18,
     "metadata": {},
     "output_type": "execute_result"
    }
   ],
   "source": [
    "#Set of Arcs from common warehouse to restaurants\n",
    "A = [(i, j) for i in V for j in V if i != j]\n",
    "A[1]"
   ]
  },
  {
   "cell_type": "code",
   "execution_count": 19,
   "metadata": {},
   "outputs": [
    {
     "data": {
      "text/plain": [
       "[[(0, 1), (0, 2), (0, 3), (0, 4), (0, 5)],\n",
       " [(1, 0), (1, 2), (1, 3), (1, 4), (1, 5)],\n",
       " [(2, 0), (2, 1), (2, 3), (2, 4), (2, 5)],\n",
       " [(3, 0), (3, 1), (3, 2), (3, 4), (3, 5)],\n",
       " [(4, 0), (4, 1), (4, 2), (4, 3), (4, 5)],\n",
       " [(5, 0), (5, 1), (5, 2), (5, 3), (5, 4)]]"
      ]
     },
     "execution_count": 19,
     "metadata": {},
     "output_type": "execute_result"
    }
   ],
   "source": [
    "i = 0\n",
    "Arcs = []\n",
    "node = []\n",
    "for a in A:\n",
    "    node.append(tuple(a))\n",
    "    i += 1\n",
    "    if i % 5 == 0:\n",
    "        Arcs.append(node)\n",
    "        node = [] # create a new empty list\n",
    "Arcs"
   ]
  },
  {
   "cell_type": "code",
   "execution_count": 20,
   "metadata": {},
   "outputs": [],
   "source": [
    "#traveling cost from node i to node j\n",
    "c = np.array([[0, 51, 60, 42, 80, 66],\n",
    "                 [51, 0, 27, 35, 42, 32],\n",
    "                 [60, 27, 0, 40, 19, 25],\n",
    "                 [42, 35, 40, 0, 64, 22],\n",
    "                 [80, 42, 19, 64, 0, 57],\n",
    "                 [66, 32, 25, 22, 57, 0]]\n",
    "               )"
   ]
  },
  {
   "cell_type": "code",
   "execution_count": 21,
   "metadata": {},
   "outputs": [
    {
     "data": {
      "text/plain": [
       "{(0, 1): 87.2387270555062,\n",
       " (0, 2): 106.39528100373309,\n",
       " (0, 3): 65.63414756317488,\n",
       " (0, 4): 63.92433809325889,\n",
       " (0, 5): 60.188778330570976,\n",
       " (1, 0): 87.2387270555062,\n",
       " (1, 2): 23.586975111554317,\n",
       " (1, 3): 60.57660335769294,\n",
       " (1, 4): 93.15708181065405,\n",
       " (1, 5): 27.74804121995107,\n",
       " (2, 0): 106.39528100373309,\n",
       " (2, 1): 23.586975111554317,\n",
       " (2, 3): 65.49761576948731,\n",
       " (2, 4): 99.48186779895522,\n",
       " (2, 5): 46.435606597129656,\n",
       " (3, 0): 65.63414756317488,\n",
       " (3, 1): 60.57660335769294,\n",
       " (3, 2): 65.49761576948731,\n",
       " (3, 4): 33.98505785136493,\n",
       " (3, 5): 42.340616676686906,\n",
       " (4, 0): 63.92433809325889,\n",
       " (4, 1): 93.15708181065405,\n",
       " (4, 2): 99.48186779895522,\n",
       " (4, 3): 33.98505785136493,\n",
       " (4, 5): 70.72622643868793,\n",
       " (5, 0): 60.188778330570976,\n",
       " (5, 1): 27.74804121995107,\n",
       " (5, 2): 46.435606597129656,\n",
       " (5, 3): 42.340616676686906,\n",
       " (5, 4): 70.72622643868793}"
      ]
     },
     "execution_count": 21,
     "metadata": {},
     "output_type": "execute_result"
    }
   ],
   "source": [
    "#traveling distance from node i to node j (calculate the hypotenuse)\n",
    "d = {(i, j): np.hypot(xc[i]-xc[j], yc[i]-yc[j]) for i, j in A}\n",
    "d"
   ]
  },
  {
   "cell_type": "code",
   "execution_count": 22,
   "metadata": {},
   "outputs": [
    {
     "data": {
      "text/plain": [
       "[[1.0, 65.0, 385.0, 0.0, 50.0],\n",
       " [0.0, 9.0, 0.0, 3.0, 0.0],\n",
       " [180.0, 0.0, 67.0, 100.0, 60.0],\n",
       " [145.0, 160.0, 0.0, 128.0, 44.0],\n",
       " [99.0, 244.0, 0.0, 4.0, 0.0]]"
      ]
     },
     "execution_count": 22,
     "metadata": {},
     "output_type": "execute_result"
    }
   ],
   "source": [
    "#Get the number of fishes purchased in part 2 (these will be delivered to restaurants)\n",
    "finalsol.tolist()"
   ]
  },
  {
   "cell_type": "code",
   "execution_count": 52,
   "metadata": {},
   "outputs": [
    {
     "name": "stdout",
     "output_type": "stream",
     "text": [
      "[[130.  90.  95.  26.  15.]\n",
      " [ 36.  54. 132.  56.  39.]\n",
      " [101.  40. 120.   3.  49.]\n",
      " [ 60. 193. 167.  16.   2.]\n",
      " [ 61.  50.  22. 140.  38.]]\n"
     ]
    }
   ],
   "source": [
    "#Total demand from all types of fishes for each restaurant (quantities that will be delivered)\n",
    "demand4 = np.array(finalsol).sum(axis=1).tolist()\n",
    "demand4\n",
    "\n",
    "print(udemand)"
   ]
  },
  {
   "cell_type": "code",
   "execution_count": 24,
   "metadata": {},
   "outputs": [
    {
     "data": {
      "text/plain": [
       "{1: 885.0, 2: 39.0, 3: 391.0, 4: 333.0, 5: 95.0}"
      ]
     },
     "execution_count": 24,
     "metadata": {},
     "output_type": "execute_result"
    }
   ],
   "source": [
    "F = {1: 885.0, 2: 39.0, 3: 391.0, 4: 333.0, 5: 95.0}\n",
    "F"
   ]
  },
  {
   "cell_type": "code",
   "execution_count": 46,
   "metadata": {},
   "outputs": [],
   "source": [
    "# Assume maximum capacity is the maximum purchased number fishes from the supplier otherwise model is infeasible\n",
    "Q = 900"
   ]
  },
  {
   "cell_type": "code",
   "execution_count": 47,
   "metadata": {},
   "outputs": [
    {
     "name": "stdout",
     "output_type": "stream",
     "text": [
      "Gurobi Optimizer version 9.1.2 build v9.1.2rc0 (win64)\n",
      "Thread count: 6 physical cores, 12 logical processors, using up to 12 threads\n",
      "Optimize a model with 20 rows, 36 columns and 60 nonzeros\n",
      "Model fingerprint: 0x9e56ee93\n",
      "Model has 20 general constraints\n",
      "Variable types: 6 continuous, 30 integer (30 binary)\n",
      "Coefficient statistics:\n",
      "  Matrix range     [1e+00, 1e+00]\n",
      "  Objective range  [2e+01, 8e+01]\n",
      "  Bounds range     [1e+00, 1e+00]\n",
      "  RHS range        [1e+00, 9e+02]\n",
      "Presolve removed 0 rows and 20 columns\n",
      "Presolve time: 0.00s\n",
      "Presolved: 20 rows, 16 columns, 72 nonzeros\n",
      "Variable types: 4 continuous, 12 integer (12 binary)\n",
      "Found heuristic solution: objective 302.0000000\n",
      "\n",
      "Root relaxation: objective 2.320000e+02, 14 iterations, 0.00 seconds\n",
      "\n",
      "    Nodes    |    Current Node    |     Objective Bounds      |     Work\n",
      " Expl Unexpl |  Obj  Depth IntInf | Incumbent    BestBd   Gap | It/Node Time\n",
      "\n",
      "     0     0  232.00000    0    8  302.00000  232.00000  23.2%     -    0s\n",
      "H    0     0                     290.0000000  232.00000  20.0%     -    0s\n",
      "     0     0  290.00000    0   10  290.00000  290.00000  0.00%     -    0s\n",
      "\n",
      "Cutting planes:\n",
      "  Gomory: 1\n",
      "  Implied bound: 3\n",
      "\n",
      "Explored 1 nodes (21 simplex iterations) in 0.02 seconds\n",
      "Thread count was 12 (of 12 available processors)\n",
      "\n",
      "Solution count 2: 290 302 \n",
      "\n",
      "Optimal solution found (tolerance 1.00e-04)\n",
      "Best objective 2.900000000000e+02, best bound 2.900000000000e+02, gap 0.0000%\n"
     ]
    }
   ],
   "source": [
    "#########Model Set-up############\n",
    "#Minimize Travelling Cost\n",
    "vr = Model(\"vehicle_routing\")\n",
    "\n",
    "# Create variables\n",
    "x = vr.addVars(A, vtype=GRB.BINARY, name = \"location\")\n",
    "\n",
    "u = vr.addVars(V,vtype=GRB.CONTINUOUS, name = \"loc_count\") #location of restaurants\n",
    "\n",
    "# Set objective - minimize travelling costs\n",
    "vr.setObjective( quicksum(c[i,j]*x[i,j] for (i,j) in A), GRB.MINIMIZE)\n",
    "\n",
    "# Assignment constraints:\n",
    "vr.addConstrs((quicksum(x[i,j] for j in V if j!=i) == 1 for i in N)) # outflow nodes\n",
    "vr.addConstrs((quicksum(x[i,j] for i in V if i!=j) == 1 for j in N)) # inflow nodes\n",
    "\n",
    "# Location count (nodes) constraints:\n",
    "vr.addConstrs(( x[i, j] == 1) >> (u[i]+ F[j] == u[j])  for i, j in A if i != 0 and j != 0)\n",
    "\n",
    "# Precedence constraints\n",
    "vr.addConstrs(u[i] >= F[i] for i in N )\n",
    "\n",
    "# Truck delivery capacity constraint:\n",
    "vr.addConstrs(u[i] <= Q for i in N)\n",
    "\n",
    "# Solving the model\n",
    "vr.optimize()"
   ]
  },
  {
   "cell_type": "code",
   "execution_count": 48,
   "metadata": {},
   "outputs": [
    {
     "name": "stdout",
     "output_type": "stream",
     "text": [
      "Minimized delivery cost: 290\n"
     ]
    }
   ],
   "source": [
    "print('Minimized delivery cost: %g' % vr.objVal)"
   ]
  },
  {
   "cell_type": "code",
   "execution_count": 49,
   "metadata": {},
   "outputs": [
    {
     "data": {
      "text/plain": [
       "[(0, 1), (0, 3), (1, 0), (2, 4), (3, 5), (4, 0), (5, 2)]"
      ]
     },
     "execution_count": 49,
     "metadata": {},
     "output_type": "execute_result"
    }
   ],
   "source": [
    "active_arcs = [a for a in A if x[a].x > 0.99]\n",
    "active_arcs"
   ]
  },
  {
   "cell_type": "code",
   "execution_count": 38,
   "metadata": {},
   "outputs": [
    {
     "name": "stdout",
     "output_type": "stream",
     "text": [
      "loc_count[0] 0.0\n",
      "loc_count[1] 885.0\n",
      "loc_count[2] 372.0\n",
      "loc_count[3] 858.0\n",
      "loc_count[4] 333.0\n",
      "loc_count[5] 467.0\n"
     ]
    }
   ],
   "source": [
    "#print loc count\n",
    "for v in u: \n",
    "    print(u[v].VarName, u[v].x)"
   ]
  },
  {
   "cell_type": "markdown",
   "metadata": {},
   "source": [
    "**(0,1) &#8594; (1, 0) &#8594; (0, 4) &#8594; (4, 2) &#8594; (2, 5) &#8594; (5, 3) &#8594; (3, 0)**"
   ]
  },
  {
   "cell_type": "code",
   "execution_count": 119,
   "metadata": {},
   "outputs": [
    {
     "data": {
      "image/png": "[encoded data removed]",
      "text/plain": [
       "<Figure size 720x720 with 1 Axes>"
      ]
     },
     "metadata": {
      "needs_background": "light"
     },
     "output_type": "display_data"
    }
   ],
   "source": [
    "fig, ax = plt.subplots(figsize=(10, 10))\n",
    "\n",
    "for i, j in active_arcs:\n",
    "    plt.plot([xc[i], xc[j]], [yc[i], yc[j]], c='y', zorder=1)\n",
    "    plt.plot(xc[0], yc[0], c='r', marker='s')\n",
    "    plt.scatter(xc[1:], yc[1:], c='b')\n",
    "    ax.quiver(xc[i], yc[i], xc[j]- xc[i], yc[j] - yc[i], angles='xy', scale_units='xy', scale=4)\n",
    "\n",
    "label = (\"Warehouse\",\"Restaurant 1\",\"Restaurant 2\",\"Restaurant 3\",\"Restaurant 4\",\"Restaurant 5\")\n",
    "\n",
    "for x,y,l in zip(xc,yc,label):\n",
    "    \n",
    "    plt.annotate(l, # this is the text\n",
    "                 (x,y), # these are the coordinates to position the label\n",
    "                 textcoords=\"offset points\", # how to position the text\n",
    "                 xytext=(0,15), # distance from text to points (x,y)\n",
    "                 ha='center',\n",
    "                 c=\"r\") # horizontal alignment can be left, right or center\n",
    "\n",
    "plt.show()"
   ]
  },
  {
   "cell_type": "markdown",
   "metadata": {},
   "source": [
    "<font color='darkcyan'>**II. Minimize total travelling distances LP**</font>"
   ]
  },
  {
   "cell_type": "code",
   "execution_count": 120,
   "metadata": {},
   "outputs": [
    {
     "name": "stdout",
     "output_type": "stream",
     "text": [
      "Gurobi Optimizer version 9.1.2 build v9.1.2rc0 (win64)\n",
      "Thread count: 4 physical cores, 8 logical processors, using up to 8 threads\n",
      "Optimize a model with 20 rows, 36 columns and 60 nonzeros\n",
      "Model fingerprint: 0x062acaa1\n",
      "Model has 20 general constraints\n",
      "Variable types: 6 continuous, 30 integer (30 binary)\n",
      "Coefficient statistics:\n",
      "  Matrix range     [1e+00, 1e+00]\n",
      "  Objective range  [2e+01, 1e+02]\n",
      "  Bounds range     [1e+00, 1e+00]\n",
      "  RHS range        [1e+00, 1e+03]\n",
      "Presolve added 21 rows and 0 columns\n",
      "Presolve removed 0 rows and 10 columns\n",
      "Presolve time: 0.00s\n",
      "Presolved: 41 rows, 26 columns, 181 nonzeros\n",
      "Variable types: 10 continuous, 16 integer (16 binary)\n",
      "\n",
      "Root relaxation: objective 3.587014e+02, 24 iterations, 0.00 seconds\n",
      "\n",
      "    Nodes    |    Current Node    |     Objective Bounds      |     Work\n",
      " Expl Unexpl |  Obj  Depth IntInf | Incumbent    BestBd   Gap | It/Node Time\n",
      "\n",
      "     0     0  358.70144    0    8          -  358.70144      -     -    0s\n",
      "H    0     0                     596.7155111  358.70144  39.9%     -    0s\n",
      "H    0     0                     513.2332019  358.70144  30.1%     -    0s\n",
      "H    0     0                     501.1420833  358.70144  28.4%     -    0s\n",
      "H    0     0                     447.7551934  358.70144  19.9%     -    0s\n",
      "H    0     0                     417.6597741  364.27288  12.8%     -    0s\n",
      "     0     0  380.67881    0    6  417.65977  380.67881  8.85%     -    0s\n",
      "     0     0  417.65977    0   10  417.65977  417.65977  0.00%     -    0s\n",
      "\n",
      "Cutting planes:\n",
      "  Learned: 2\n",
      "  Gomory: 4\n",
      "  Cover: 1\n",
      "  Implied bound: 2\n",
      "  MIR: 1\n",
      "  GUB cover: 1\n",
      "\n",
      "Explored 1 nodes (43 simplex iterations) in 0.03 seconds\n",
      "Thread count was 8 (of 8 available processors)\n",
      "\n",
      "Solution count 5: 417.66 447.755 501.142 ... 596.716\n",
      "\n",
      "Optimal solution found (tolerance 1.00e-04)\n",
      "Best objective 4.176597741227e+02, best bound 4.176597741227e+02, gap 0.0000%\n"
     ]
    }
   ],
   "source": [
    "#Minimize Travelling Distance \n",
    "vr1 = Model(\"vehicle_routing\")\n",
    "\n",
    "# Create variables\n",
    "x1 = vr1.addVars(A, vtype=GRB.BINARY, name = \"location\")\n",
    "\n",
    "u1 = vr1.addVars(V,vtype=GRB.CONTINUOUS, name = \"loc_count\") #location of restaurants\n",
    "\n",
    "# Set objective - minimize travelling costs\n",
    "vr1.setObjective( quicksum(d[i,j]*x1[i,j] for (i,j) in A), GRB.MINIMIZE)\n",
    "\n",
    "# Assignment constraints:\n",
    "vr1.addConstrs((quicksum(x1[i,j] for j in V if j!=i) == 1 for i in N)) # outflow nodes\n",
    "vr1.addConstrs((quicksum(x1[i,j] for i in V if i!=j) == 1 for j in N)) # inflow nodes\n",
    "\n",
    "# Location count (nodes) constraints:\n",
    "vr1.addConstrs(( x1[i, j] == 1) >> (u1[i]+ F[j] == u1[j])  for i, j in A if i != 0 and j != 0)\n",
    "\n",
    "# Precedence constraints\n",
    "vr1.addConstrs(u1[i] >= F[i] for i in N )\n",
    "\n",
    "# Truck delivery capacity constraint:\n",
    "vr1.addConstrs(u1[i] <= Q for i in N)\n",
    "\n",
    "# Solving the model\n",
    "vr1.optimize()"
   ]
  },
  {
   "cell_type": "code",
   "execution_count": 98,
   "metadata": {},
   "outputs": [
    {
     "name": "stdout",
     "output_type": "stream",
     "text": [
      "Minimized delivery distance: 444.509\n"
     ]
    }
   ],
   "source": [
    "print('Minimized delivery distance: %g' % vr1.objVal)"
   ]
  },
  {
   "cell_type": "code",
   "execution_count": 121,
   "metadata": {},
   "outputs": [
    {
     "data": {
      "text/plain": [
       "[(0, 2), (0, 5), (1, 0), (2, 1), (3, 4), (4, 0), (5, 3)]"
      ]
     },
     "execution_count": 121,
     "metadata": {},
     "output_type": "execute_result"
    }
   ],
   "source": [
    "active_arcs1 = [a for a in A if x1[a].x > 0.99]\n",
    "active_arcs1"
   ]
  },
  {
   "cell_type": "code",
   "execution_count": 31,
   "metadata": {},
   "outputs": [
    {
     "name": "stdout",
     "output_type": "stream",
     "text": [
      "loc_count[0] 0.0\n",
      "loc_count[1] 885.0\n",
      "loc_count[2] 790.0\n",
      "loc_count[3] 751.0\n",
      "loc_count[4] 360.0\n",
      "loc_count[5] 885.0\n"
     ]
    }
   ],
   "source": [
    "#print loc count\n",
    "for v in u1: \n",
    "    print(u1[v].VarName, u1[v].x)"
   ]
  },
  {
   "cell_type": "code",
   "execution_count": 122,
   "metadata": {},
   "outputs": [
    {
     "data": {
      "image/png": "[encoded data removed]",
      "text/plain": [
       "<Figure size 720x720 with 1 Axes>"
      ]
     },
     "metadata": {
      "needs_background": "light"
     },
     "output_type": "display_data"
    }
   ],
   "source": [
    "fig, ax = plt.subplots(figsize=(10, 10))\n",
    "\n",
    "for i, j in active_arcs1:\n",
    "    plt.plot([xc[i], xc[j]], [yc[i], yc[j]], c='y', zorder=1)\n",
    "    plt.plot(xc[0], yc[0], c='r', marker='s')\n",
    "    plt.scatter(xc[1:], yc[1:], c='b')\n",
    "    ax.quiver(xc[i], yc[i], xc[j]- xc[i], yc[j] - yc[i], angles='xy', scale_units='xy', scale=3)\n",
    "\n",
    "label = (\"Warehouse\",\"Restaurant 1\",\"Restaurant 2\",\"Restaurant 3\",\"Restaurant 4\",\"Restaurant 5\")\n",
    "\n",
    "for x,y,l in zip(xc,yc,label):\n",
    "    \n",
    "    plt.annotate(l, # this is the text\n",
    "                 (x,y), # these are the coordinates to position the label\n",
    "                 textcoords=\"offset points\", # how to position the text\n",
    "                 xytext=(0,15), # distance from text to points (x,y)\n",
    "                 ha='center',\n",
    "                 c=\"r\") # horizontal alignment can be left, right or center\n",
    "\n",
    "plt.show()"
   ]
  },
  {
   "cell_type": "markdown",
   "metadata": {},
   "source": [
    "#### SCENARIO 2: ONE TRUCK WITH UNLIMITED CAPACITY + SUBTOUR CONSTRAINTS (CONVENTIONAL TSP MODEL)"
   ]
  },
  {
   "cell_type": "markdown",
   "metadata": {},
   "source": [
    "**Assumptions**:\n",
    "*  Truck has Unlimited Holding Capacity\n",
    "*  Subtour constrains - aka does not allow the truck to go back to warehouse\n",
    "*  Only need to go to each restaurant once to deliver"
   ]
  },
  {
   "cell_type": "markdown",
   "metadata": {},
   "source": [
    "<font color='darkcyan'>**I. Minimize total travelling costs LP**</font>"
   ]
  },
  {
   "cell_type": "code",
   "execution_count": 108,
   "metadata": {},
   "outputs": [
    {
     "name": "stdout",
     "output_type": "stream",
     "text": [
      "Gurobi Optimizer version 9.1.2 build v9.1.2rc0 (win64)\n",
      "Thread count: 4 physical cores, 8 logical processors, using up to 8 threads\n",
      "Optimize a model with 40 rows, 36 columns and 135 nonzeros\n",
      "Model fingerprint: 0x6fe037b7\n",
      "Variable types: 6 continuous, 30 integer (30 binary)\n",
      "Coefficient statistics:\n",
      "  Matrix range     [1e+00, 1e+04]\n",
      "  Objective range  [2e+01, 8e+01]\n",
      "  Bounds range     [1e+00, 1e+00]\n",
      "  RHS range        [1e+00, 1e+04]\n",
      "Found heuristic solution: objective 598.0000000\n",
      "Presolve removed 10 rows and 11 columns\n",
      "Presolve time: 0.00s\n",
      "Presolved: 30 rows, 25 columns, 100 nonzeros\n",
      "Variable types: 5 continuous, 20 integer (20 binary)\n",
      "\n",
      "Root relaxation: objective 1.270010e+02, 13 iterations, 0.00 seconds\n",
      "\n",
      "    Nodes    |    Current Node    |     Objective Bounds      |     Work\n",
      " Expl Unexpl |  Obj  Depth IntInf | Incumbent    BestBd   Gap | It/Node Time\n",
      "\n",
      "     0     0  127.00100    0    9  598.00000  127.00100  78.8%     -    0s\n",
      "H    0     0                     302.0000000  127.00100  57.9%     -    0s\n",
      "H    0     0                     241.0000000  127.00100  47.3%     -    0s\n",
      "H    0     0                     222.0000000  127.00100  42.8%     -    0s\n",
      "H    0     0                     218.0000000  127.00100  41.7%     -    0s\n",
      "H    0     0                     217.0000000  127.00100  41.5%     -    0s\n",
      "     0     0  132.00220    0   11  217.00000  132.00220  39.2%     -    0s\n",
      "H    0     0                     201.0000000  132.00220  34.3%     -    0s\n",
      "     0     0  143.00000    0   10  201.00000  143.00000  28.9%     -    0s\n",
      "     0     0  143.00000    0   10  201.00000  143.00000  28.9%     -    0s\n",
      "     0     2  143.00000    0   10  201.00000  143.00000  28.9%     -    0s\n",
      "\n",
      "Cutting planes:\n",
      "  Learned: 2\n",
      "\n",
      "Explored 61 nodes (273 simplex iterations) in 0.05 seconds\n",
      "Thread count was 8 (of 8 available processors)\n",
      "\n",
      "Solution count 7: 201 217 218 ... 598\n",
      "\n",
      "Optimal solution found (tolerance 1.00e-04)\n",
      "Best objective 2.010000000000e+02, best bound 2.010000000000e+02, gap 0.0000%\n"
     ]
    }
   ],
   "source": [
    "#########Model Set-up############\n",
    "#Minimize Travelling Cost\n",
    "vr2 = Model(\"vehicle_routing\")\n",
    "\n",
    "# Create variables\n",
    "x2 = vr2.addVars(A, vtype=GRB.BINARY, name = \"location\")\n",
    "\n",
    "u2 = vr2.addVars(V,vtype=GRB.CONTINUOUS, name = \"loc_count\") #location of restaurants\n",
    "\n",
    "# Set objective - minimize travelling costs\n",
    "vr2.setObjective( quicksum(c[i,j]*x2[i,j] for (i,j) in A), GRB.MINIMIZE)\n",
    "\n",
    "# Assignment constraints:\n",
    "vr2.addConstrs((quicksum(x2[i,j] for j in V if j!=i) == 1 for i in N)) # outflow nodes\n",
    "vr2.addConstrs((quicksum(x2[i,j] for i in V if i!=j) == 1 for j in N)) # inflow nodes\n",
    "\n",
    "# Subtour-breaking constraints:\n",
    "M = 10000\n",
    "vr2.addConstrs(( u2[i] + 1 - u2[j] <= M*(1 - x2[i,j])  for i in V for j in V[1:] if i != j))\n",
    "\n",
    "# Precedence constraints\n",
    "precedent_pair = tuplelist()\n",
    "for i in V:\n",
    "    for j in V:\n",
    "        if j!=i:\n",
    "            if i==0:\n",
    "                precedent_pair.append((i,j))\n",
    "vr2.addConstrs( (u2[i] <= u2[j] for (i,j) in precedent_pair)  )\n",
    "\n",
    "# Solving the model\n",
    "vr2.optimize()"
   ]
  },
  {
   "cell_type": "code",
   "execution_count": 109,
   "metadata": {},
   "outputs": [
    {
     "name": "stdout",
     "output_type": "stream",
     "text": [
      "Minimized delivery cost: 201\n"
     ]
    }
   ],
   "source": [
    "print('Minimized delivery cost: %g' % vr2.objVal)"
   ]
  },
  {
   "cell_type": "code",
   "execution_count": 110,
   "metadata": {},
   "outputs": [
    {
     "data": {
      "text/plain": [
       "[(0, 3), (1, 0), (2, 4), (3, 5), (4, 1), (5, 2)]"
      ]
     },
     "execution_count": 110,
     "metadata": {},
     "output_type": "execute_result"
    }
   ],
   "source": [
    "active_arcs3 = [a for a in A if x2[a].x > 0.99]\n",
    "active_arcs3"
   ]
  },
  {
   "cell_type": "code",
   "execution_count": 35,
   "metadata": {},
   "outputs": [
    {
     "name": "stdout",
     "output_type": "stream",
     "text": [
      "[(0, 3), (1, 0), (2, 4), (3, 5), (4, 1), (5, 2)]\n"
     ]
    }
   ],
   "source": [
    "#  Obtain the permutation as a representation of the tour\n",
    "s_edge = []\n",
    "for v in x2:    \n",
    "    if x2[v].x > 0.001:\n",
    "        #append the edge to the resulting list of edges\n",
    "        s_edge.append(v)\n",
    "\n",
    "print(s_edge)"
   ]
  },
  {
   "cell_type": "code",
   "execution_count": 36,
   "metadata": {},
   "outputs": [
    {
     "name": "stdout",
     "output_type": "stream",
     "text": [
      "[0. 3. 5. 2. 4. 1.]\n"
     ]
    }
   ],
   "source": [
    "permu = np.ones(len(V))\n",
    "predecessor = 0\n",
    "for i in V:\n",
    "    for s in s_edge:\n",
    "        if s[0] == predecessor:\n",
    "            permu[i] = s[0]\n",
    "            predecessor = s[1]\n",
    "            break    \n",
    "    \n",
    "print(permu)"
   ]
  },
  {
   "cell_type": "code",
   "execution_count": 111,
   "metadata": {},
   "outputs": [
    {
     "data": {
      "image/png": "[encoded data removed]",
      "text/plain": [
       "<Figure size 720x720 with 1 Axes>"
      ]
     },
     "metadata": {
      "needs_background": "light"
     },
     "output_type": "display_data"
    }
   ],
   "source": [
    "fig, ax = plt.subplots(figsize=(10, 10))\n",
    "\n",
    "for i, j in active_arcs3:\n",
    "    plt.plot([xc[i], xc[j]], [yc[i], yc[j]], c='y', zorder=1)\n",
    "    plt.plot(xc[0], yc[0], c='r', marker='s')\n",
    "    plt.scatter(xc[1:], yc[1:], c='b')\n",
    "    ax.quiver(xc[i], yc[i], xc[j]- xc[i], yc[j] - yc[i], angles='xy', scale_units='xy', scale=3)\n",
    "\n",
    "label = (\"Warehouse\",\"Restaurant 1\",\"Restaurant 2\",\"Restaurant 3\",\"Restaurant 4\",\"Restaurant 5\")\n",
    "\n",
    "for x,y,l in zip(xc,yc,label):\n",
    "    \n",
    "    plt.annotate(l, # this is the text\n",
    "                 (x,y), # these are the coordinates to position the label\n",
    "                 textcoords=\"offset points\", # how to position the text\n",
    "                 xytext=(0,15), # distance from text to points (x,y)\n",
    "                 ha='center',\n",
    "                 c=\"r\") # horizontal alignment can be left, right or center\n",
    "\n",
    "plt.show()\n"
   ]
  },
  {
   "cell_type": "markdown",
   "metadata": {},
   "source": [
    "<font color='darkcyan'>**II. Minimize total travelling distances LP**</font>"
   ]
  },
  {
   "cell_type": "code",
   "execution_count": 112,
   "metadata": {},
   "outputs": [
    {
     "name": "stdout",
     "output_type": "stream",
     "text": [
      "Gurobi Optimizer version 9.1.2 build v9.1.2rc0 (win64)\n",
      "Thread count: 4 physical cores, 8 logical processors, using up to 8 threads\n",
      "Optimize a model with 40 rows, 36 columns and 135 nonzeros\n",
      "Model fingerprint: 0x4eb09cf0\n",
      "Variable types: 6 continuous, 30 integer (30 binary)\n",
      "Coefficient statistics:\n",
      "  Matrix range     [1e+00, 1e+04]\n",
      "  Objective range  [2e+01, 1e+02]\n",
      "  Bounds range     [1e+00, 1e+00]\n",
      "  RHS range        [1e+00, 1e+04]\n",
      "Found heuristic solution: objective 766.7625441\n",
      "Presolve removed 10 rows and 11 columns\n",
      "Presolve time: 0.00s\n",
      "Presolved: 30 rows, 25 columns, 100 nonzeros\n",
      "Variable types: 5 continuous, 20 integer (20 binary)\n",
      "\n",
      "Root relaxation: objective 1.657464e+02, 11 iterations, 0.00 seconds\n",
      "\n",
      "    Nodes    |    Current Node    |     Objective Bounds      |     Work\n",
      " Expl Unexpl |  Obj  Depth IntInf | Incumbent    BestBd   Gap | It/Node Time\n",
      "\n",
      "     0     0  165.74644    0    9  766.76254  165.74644  78.4%     -    0s\n",
      "H    0     0                     380.9936306  165.74644  56.5%     -    0s\n",
      "H    0     0                     324.8293866  165.74644  49.0%     -    0s\n",
      "H    0     0                     288.6973593  165.74644  42.6%     -    0s\n",
      "     0     0  194.23131    0    9  288.69736  194.23131  32.7%     -    0s\n",
      "     0     0  221.54392    0   10  288.69736  221.54392  23.3%     -    0s\n",
      "     0     0  221.54392    0   10  288.69736  221.54392  23.3%     -    0s\n",
      "H    0     0                     274.9308064  221.54392  19.4%     -    0s\n",
      "     0     2  221.54392    0   10  274.93081  221.54392  19.4%     -    0s\n",
      "\n",
      "Cutting planes:\n",
      "  Learned: 2\n",
      "\n",
      "Explored 52 nodes (254 simplex iterations) in 0.04 seconds\n",
      "Thread count was 8 (of 8 available processors)\n",
      "\n",
      "Solution count 5: 274.931 288.697 324.829 ... 766.763\n",
      "\n",
      "Optimal solution found (tolerance 1.00e-04)\n",
      "Best objective 2.749308063762e+02, best bound 2.749308063762e+02, gap 0.0000%\n"
     ]
    }
   ],
   "source": [
    "#Minimize Travelling Distance \n",
    "vr4 = Model(\"vehicle_routing\")\n",
    "\n",
    "# Create variables\n",
    "x4 = vr4.addVars(A, vtype=GRB.BINARY, name = \"location\")\n",
    "\n",
    "u4 = vr4.addVars(V,vtype=GRB.CONTINUOUS, name = \"loc_count\") #location of restaurants\n",
    "\n",
    "# Set objective - minimize travelling costs\n",
    "vr4.setObjective( quicksum(d[i,j]*x4[i,j] for (i,j) in A), GRB.MINIMIZE)\n",
    "\n",
    "# Assignment constraints:\n",
    "vr4.addConstrs((quicksum(x4[i,j] for j in V if j!=i) == 1 for i in N)) # outflow nodes\n",
    "vr4.addConstrs((quicksum(x4[i,j] for i in V if i!=j) == 1 for j in N)) # inflow nodes\n",
    "\n",
    "# Subtour-breaking constraints:\n",
    "M = 10000\n",
    "vr4.addConstrs(( u4[i] + 1 - u4[j] <= M*(1 - x4[i,j])  for i in V for j in V[1:] if i != j))\n",
    "\n",
    "# Precedence constraints\n",
    "precedent_pair = tuplelist()\n",
    "for i in V:\n",
    "    for j in V:\n",
    "        if j!=i:\n",
    "            if i==0:\n",
    "                precedent_pair.append((i,j))\n",
    "vr4.addConstrs( (u4[i] <= u4[j] for (i,j) in precedent_pair)  )\n",
    "\n",
    "# Solving the model\n",
    "vr4.optimize()"
   ]
  },
  {
   "cell_type": "code",
   "execution_count": 114,
   "metadata": {},
   "outputs": [
    {
     "name": "stdout",
     "output_type": "stream",
     "text": [
      "Minimized delivery distances: 274.931\n"
     ]
    },
    {
     "data": {
      "text/plain": [
       "[(0, 5), (1, 2), (2, 3), (3, 4), (4, 0), (5, 1)]"
      ]
     },
     "execution_count": 114,
     "metadata": {},
     "output_type": "execute_result"
    }
   ],
   "source": [
    "print('Minimized delivery distances: %g' % vr4.objVal)\n",
    "active_arcs4 = [a for a in A if x4[a].x > 0.99]\n",
    "active_arcs4"
   ]
  },
  {
   "cell_type": "code",
   "execution_count": 113,
   "metadata": {},
   "outputs": [
    {
     "name": "stdout",
     "output_type": "stream",
     "text": [
      "[(0, 5), (1, 2), (2, 3), (3, 4), (4, 0), (5, 1)] \n",
      "\n",
      "[0. 5. 1. 2. 3. 4.]\n"
     ]
    }
   ],
   "source": [
    "#  Obtain the permutation as a representation of the tour\n",
    "s_edge = []\n",
    "for v in x4:    \n",
    "    if x4[v].x > 0.001:\n",
    "        #append the edge to the resulting list of edges\n",
    "        s_edge.append(v)\n",
    "\n",
    "print(s_edge,\"\\n\")\n",
    "\n",
    "permu = np.ones(len(V))\n",
    "predecessor = 0\n",
    "for i in V:\n",
    "    for s in s_edge:\n",
    "        if s[0] == predecessor:\n",
    "            permu[i] = s[0]\n",
    "            predecessor = s[1]\n",
    "            break    \n",
    "    \n",
    "print(permu)"
   ]
  },
  {
   "cell_type": "code",
   "execution_count": 115,
   "metadata": {},
   "outputs": [
    {
     "data": {
      "image/png": "[encoded data removed]",
      "text/plain": [
       "<Figure size 720x720 with 1 Axes>"
      ]
     },
     "metadata": {
      "needs_background": "light"
     },
     "output_type": "display_data"
    }
   ],
   "source": [
    "fig, ax = plt.subplots(figsize=(10, 10))\n",
    "\n",
    "for i, j in active_arcs4:\n",
    "    plt.plot([xc[i], xc[j]], [yc[i], yc[j]], c='y', zorder=1)\n",
    "    plt.plot(xc[0], yc[0], c='r', marker='s')\n",
    "    plt.scatter(xc[1:], yc[1:], c='b')\n",
    "    ax.quiver(xc[i], yc[i], xc[j]- xc[i], yc[j] - yc[i], angles='xy', scale_units='xy', scale=3)\n",
    "\n",
    "label = (\"Warehouse\",\"Restaurant 1\",\"Restaurant 2\",\"Restaurant 3\",\"Restaurant 4\",\"Restaurant 5\")\n",
    "\n",
    "for x,y,l in zip(xc,yc,label):\n",
    "    \n",
    "    plt.annotate(l, # this is the text\n",
    "                 (x,y), # these are the coordinates to position the label\n",
    "                 textcoords=\"offset points\", # how to position the text\n",
    "                 xytext=(0,15), # distance from text to points (x,y)\n",
    "                 ha='center',\n",
    "                 c=\"r\") # horizontal alignment can be left, right or center\n",
    "\n",
    "plt.show()"
   ]
  }
 ],
 "metadata": {
  "kernelspec": {
   "display_name": "Python 3",
   "language": "python",
   "name": "python3"
  },
  "language_info": {
   "codemirror_mode": {
    "name": "ipython",
    "version": 3
   },
   "file_extension": ".py",
   "mimetype": "text/x-python",
   "name": "python",
   "nbconvert_exporter": "python",
   "pygments_lexer": "ipython3",
   "version": "3.8.8"
  }
 },
 "nbformat": 4,
 "nbformat_minor": 4
}
